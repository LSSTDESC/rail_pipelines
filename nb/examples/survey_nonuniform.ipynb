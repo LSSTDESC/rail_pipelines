{
 "cells": [
  {
   "cell_type": "code",
   "execution_count": 1,
   "id": "62c833e4-fde5-4ba0-8406-966805b80ed2",
   "metadata": {},
   "outputs": [
    {
     "name": "stdout",
     "output_type": "stream",
     "text": [
      "Imported rail.hub\n",
      "Imported rail.astro_tools\n",
      "Imported rail.core\n",
      "Imported rail.stages\n",
      "Imported rail.bpz\n",
      "Imported rail.cmnn\n",
      "Imported rail.delight\n",
      "Failed to import rail.dsps because: You need to have the SPS_HOME environment variable\n",
      "Imported rail.flexzboost\n",
      "Imported rail.gpz\n",
      "Imported rail.pipelines\n",
      "Failed to import rail.pzflow because: No module named 'rail.estimation.algos.pzflow'\n",
      "Imported rail.sklearn\n",
      "Imported rail.som\n",
      "Attached 12 base classes and 53 fully formed stages to rail.stages\n"
     ]
    }
   ],
   "source": [
    "# usual imports\n",
    "import os\n",
    "import numpy as np\n",
    "import matplotlib.pyplot as plt\n",
    "from rail.core.utils import RAILDIR\n",
    "#from rail.estimation.algos.bpz_version.utils import RAIL_BPZ_DIR\n",
    "from rail.pipelines.examples.survey_nonuniformity.survey_nonuniformity import SurveyNonuniformDegraderPipeline\n",
    "from rail.core import common_params\n",
    "from rail.pipelines.utils.name_factory import NameFactory, DataType, CatalogType, ModelType, PdfType\n",
    "import qp\n",
    "import ceci"
   ]
  },
  {
   "cell_type": "markdown",
   "id": "2d022101-7f7b-4fb1-abaa-f1a4243027f9",
   "metadata": {},
   "source": [
    "### Define the bands, magnitude limits, and put them into a dictionary"
   ]
  },
  {
   "cell_type": "code",
   "execution_count": 8,
   "id": "92e175b0-bcf4-4777-a165-a95afe061627",
   "metadata": {
    "tags": []
   },
   "outputs": [],
   "source": [
    "bands = 'grizy'\n",
    "maglims = [27.79, 29.04, 29.06, 28.62, 27.98, 27.05]\n",
    "maglim_dict={}\n",
    "for band,limx in zip(bands, maglims):\n",
    "    maglim_dict[f\"mag_{band}_lsst\"] = limx"
   ]
  },
  {
   "cell_type": "markdown",
   "id": "3b1fb970-14d6-4e0c-b330-e341b6cb6be5",
   "metadata": {},
   "source": [
    "### Setting common parameters to all the stages in the estimation\n"
   ]
  },
  {
   "cell_type": "code",
   "execution_count": 10,
   "id": "682d2489-ba1b-4344-af95-728667e53528",
   "metadata": {},
   "outputs": [],
   "source": [
    "common_params.set_param_defaults(\n",
    "    bands=[f'mag_{band}_lsst' for band in bands], # bands\n",
    "    err_bands=[f'mag_err_{band}_lsst' for band in bands], # uncertainty bands\n",
    "    nondetect_val=np.nan,\n",
    "    #ref_band='HSCi_cmodel_dered',\n",
    "    redshift_col='redshift',\n",
    "    mag_limits=maglim_dict,\n",
    "    #zmax=6.0, # set zmax to 6 for HSC\n",
    ")"
   ]
  },
  {
   "cell_type": "markdown",
   "id": "25accc6c-b50b-4acc-bfeb-1f72034e6d7e",
   "metadata": {},
   "source": [
    "### Set up the pipeline"
   ]
  },
  {
   "cell_type": "code",
   "execution_count": 11,
   "id": "ba92106a-6ac6-42e3-822f-d5dcf30a5793",
   "metadata": {
    "tags": []
   },
   "outputs": [
    {
     "name": "stdout",
     "output_type": "stream",
     "text": [
      "Inserting handle into data store.  model: /global/u2/q/qhang/desc/rail_base/src/rail/examples_data/goldenspike_data/data/pretrained_flow.pkl, flow_engine_train\n"
     ]
    },
    {
     "name": "stderr",
     "output_type": "stream",
     "text": [
      "2023-08-03 15:58:44.859000: E external/xla/xla/stream_executor/cuda/cuda_dnn.cc:445] Could not create cudnn handle: CUDNN_STATUS_INTERNAL_ERROR\n",
      "2023-08-03 15:58:44.859049: E external/xla/xla/stream_executor/cuda/cuda_dnn.cc:449] Memory usage: 3276800 bytes free, 42297524224 bytes total.\n"
     ]
    },
    {
     "ename": "XlaRuntimeError",
     "evalue": "FAILED_PRECONDITION: DNN library initialization failed. Look at the errors above for more details.",
     "output_type": "error",
     "traceback": [
      "\u001b[0;31m---------------------------------------------------------------------------\u001b[0m",
      "\u001b[0;31mXlaRuntimeError\u001b[0m                           Traceback (most recent call last)",
      "Cell \u001b[0;32mIn[11], line 1\u001b[0m\n\u001b[0;32m----> 1\u001b[0m pipe \u001b[38;5;241m=\u001b[39m \u001b[43mSurveyNonuniformDegraderPipeline\u001b[49m\u001b[43m(\u001b[49m\u001b[43m)\u001b[49m\n",
      "File \u001b[0;32m/global/u2/q/qhang/desc/rail_pipelines/src/rail/pipelines/examples/survey_nonuniformity/survey_nonuniformity.py:36\u001b[0m, in \u001b[0;36mSurveyNonuniformDegraderPipeline.__init__\u001b[0;34m(self)\u001b[0m\n\u001b[1;32m     33\u001b[0m rename_dict \u001b[38;5;241m=\u001b[39m {\u001b[38;5;124mf\u001b[39m\u001b[38;5;124m'\u001b[39m\u001b[38;5;124mmag_\u001b[39m\u001b[38;5;132;01m{\u001b[39;00mband\u001b[38;5;132;01m}\u001b[39;00m\u001b[38;5;124m_lsst_err\u001b[39m\u001b[38;5;124m'\u001b[39m:\u001b[38;5;124mf\u001b[39m\u001b[38;5;124m'\u001b[39m\u001b[38;5;124mmag_err_\u001b[39m\u001b[38;5;132;01m{\u001b[39;00mband\u001b[38;5;132;01m}\u001b[39;00m\u001b[38;5;124m_lsst\u001b[39m\u001b[38;5;124m'\u001b[39m \u001b[38;5;28;01mfor\u001b[39;00m band \u001b[38;5;129;01min\u001b[39;00m bands}\n\u001b[1;32m     35\u001b[0m \u001b[38;5;66;03m# This may be changed later\u001b[39;00m\n\u001b[0;32m---> 36\u001b[0m \u001b[38;5;28;43mself\u001b[39;49m\u001b[38;5;241;43m.\u001b[39;49m\u001b[43mflow_engine_train\u001b[49m \u001b[38;5;241m=\u001b[39m FlowCreator\u001b[38;5;241m.\u001b[39mbuild(\n\u001b[1;32m     37\u001b[0m     model\u001b[38;5;241m=\u001b[39mflow_file,\n\u001b[1;32m     38\u001b[0m     n_samples\u001b[38;5;241m=\u001b[39m\u001b[38;5;241m10\u001b[39m,\n\u001b[1;32m     39\u001b[0m     output\u001b[38;5;241m=\u001b[39mos\u001b[38;5;241m.\u001b[39mpath\u001b[38;5;241m.\u001b[39mjoin(namer\u001b[38;5;241m.\u001b[39mget_data_dir(DataType\u001b[38;5;241m.\u001b[39mcatalog, CatalogType\u001b[38;5;241m.\u001b[39mcreated), \u001b[38;5;124m\"\u001b[39m\u001b[38;5;124moutput_flow_engine_train.pq\u001b[39m\u001b[38;5;124m\"\u001b[39m),\n\u001b[1;32m     40\u001b[0m )\n\u001b[1;32m     42\u001b[0m \u001b[38;5;28mself\u001b[39m\u001b[38;5;241m.\u001b[39mobs_condition \u001b[38;5;241m=\u001b[39m ObsCondition\u001b[38;5;241m.\u001b[39mbuild(\n\u001b[1;32m     43\u001b[0m     connections\u001b[38;5;241m=\u001b[39m\u001b[38;5;28mdict\u001b[39m(\u001b[38;5;28minput\u001b[39m\u001b[38;5;241m=\u001b[39m\u001b[38;5;28mself\u001b[39m\u001b[38;5;241m.\u001b[39mflow_engine_train\u001b[38;5;241m.\u001b[39mio\u001b[38;5;241m.\u001b[39moutput), \n\u001b[1;32m     44\u001b[0m     output\u001b[38;5;241m=\u001b[39mos\u001b[38;5;241m.\u001b[39mpath\u001b[38;5;241m.\u001b[39mjoin(namer\u001b[38;5;241m.\u001b[39mget_data_dir(DataType\u001b[38;5;241m.\u001b[39mcatalog, CatalogType\u001b[38;5;241m.\u001b[39mdegraded), \u001b[38;5;124m\"\u001b[39m\u001b[38;5;124moutput_obscondition.pq\u001b[39m\u001b[38;5;124m\"\u001b[39m),\n\u001b[1;32m     45\u001b[0m )\n\u001b[1;32m     47\u001b[0m \u001b[38;5;28mself\u001b[39m\u001b[38;5;241m.\u001b[39mcol_remapper_train \u001b[38;5;241m=\u001b[39m ColumnMapper\u001b[38;5;241m.\u001b[39mbuild(\n\u001b[1;32m     48\u001b[0m     connections\u001b[38;5;241m=\u001b[39m\u001b[38;5;28mdict\u001b[39m(\u001b[38;5;28minput\u001b[39m\u001b[38;5;241m=\u001b[39m\u001b[38;5;28mself\u001b[39m\u001b[38;5;241m.\u001b[39mobs_condition\u001b[38;5;241m.\u001b[39mio\u001b[38;5;241m.\u001b[39moutput),\n\u001b[1;32m     49\u001b[0m     columns\u001b[38;5;241m=\u001b[39mrename_dict,\n\u001b[1;32m     50\u001b[0m     output\u001b[38;5;241m=\u001b[39mos\u001b[38;5;241m.\u001b[39mpath\u001b[38;5;241m.\u001b[39mjoin(namer\u001b[38;5;241m.\u001b[39mget_data_dir(DataType\u001b[38;5;241m.\u001b[39mcatalog, CatalogType\u001b[38;5;241m.\u001b[39mdegraded), \u001b[38;5;124m\"\u001b[39m\u001b[38;5;124moutput_col_remapper_train.pq\u001b[39m\u001b[38;5;124m\"\u001b[39m),\n\u001b[1;32m     51\u001b[0m )\n",
      "File \u001b[0;32m/global/u2/q/qhang/desc/rail_base/src/rail/core/stage.py:83\u001b[0m, in \u001b[0;36mRailPipeline.__setattr__\u001b[0;34m(self, name, value)\u001b[0m\n\u001b[1;32m     81\u001b[0m \u001b[38;5;28;01mdef\u001b[39;00m \u001b[38;5;21m__setattr__\u001b[39m(\u001b[38;5;28mself\u001b[39m, name, value):\n\u001b[1;32m     82\u001b[0m     \u001b[38;5;28;01mif\u001b[39;00m \u001b[38;5;28misinstance\u001b[39m(value, RailStageBuild):\n\u001b[0;32m---> 83\u001b[0m         stage \u001b[38;5;241m=\u001b[39m \u001b[43mvalue\u001b[49m\u001b[38;5;241;43m.\u001b[39;49m\u001b[43mbuild\u001b[49m\u001b[43m(\u001b[49m\u001b[43mname\u001b[49m\u001b[43m)\u001b[49m\n\u001b[1;32m     84\u001b[0m         \u001b[38;5;28mself\u001b[39m\u001b[38;5;241m.\u001b[39madd_stage(stage)\n\u001b[1;32m     85\u001b[0m         \u001b[38;5;28;01mreturn\u001b[39;00m stage\n",
      "File \u001b[0;32m/global/u2/q/qhang/desc/rail_base/src/rail/core/stage.py:63\u001b[0m, in \u001b[0;36mRailStageBuild.build\u001b[0;34m(self, name)\u001b[0m\n\u001b[1;32m     49\u001b[0m \u001b[38;5;28;01mdef\u001b[39;00m \u001b[38;5;21mbuild\u001b[39m(\u001b[38;5;28mself\u001b[39m, name):\n\u001b[1;32m     50\u001b[0m \u001b[38;5;250m    \u001b[39m\u001b[38;5;124;03m\"\"\"Actually build the stage, this is called by the pipeline the stage\u001b[39;00m\n\u001b[1;32m     51\u001b[0m \u001b[38;5;124;03m    belongs to\u001b[39;00m\n\u001b[1;32m     52\u001b[0m \n\u001b[0;32m   (...)\u001b[0m\n\u001b[1;32m     61\u001b[0m \u001b[38;5;124;03m        The newly built stage\u001b[39;00m\n\u001b[1;32m     62\u001b[0m \u001b[38;5;124;03m    \"\"\"\u001b[39;00m\n\u001b[0;32m---> 63\u001b[0m     stage \u001b[38;5;241m=\u001b[39m \u001b[38;5;28;43mself\u001b[39;49m\u001b[38;5;241;43m.\u001b[39;49m\u001b[43mstage_class\u001b[49m\u001b[38;5;241;43m.\u001b[39;49m\u001b[43mmake_and_connect\u001b[49m\u001b[43m(\u001b[49m\u001b[43mname\u001b[49m\u001b[38;5;241;43m=\u001b[39;49m\u001b[43mname\u001b[49m\u001b[43m,\u001b[49m\u001b[43m \u001b[49m\u001b[38;5;241;43m*\u001b[39;49m\u001b[38;5;241;43m*\u001b[39;49m\u001b[38;5;28;43mself\u001b[39;49m\u001b[38;5;241;43m.\u001b[39;49m\u001b[43m_kwargs\u001b[49m\u001b[43m)\u001b[49m\n\u001b[1;32m     64\u001b[0m     \u001b[38;5;28;01mreturn\u001b[39;00m stage\n",
      "File \u001b[0;32m/global/u2/q/qhang/desc/rail_base/src/rail/core/stage.py:160\u001b[0m, in \u001b[0;36mRailStage.make_and_connect\u001b[0;34m(cls, **kwargs)\u001b[0m\n\u001b[1;32m    144\u001b[0m \u001b[38;5;250m\u001b[39m\u001b[38;5;124;03m\"\"\"Make a stage and connects it to other stages\u001b[39;00m\n\u001b[1;32m    145\u001b[0m \n\u001b[1;32m    146\u001b[0m \u001b[38;5;124;03mNotes\u001b[39;00m\n\u001b[0;32m   (...)\u001b[0m\n\u001b[1;32m    157\u001b[0m \u001b[38;5;124;03mA stage\u001b[39;00m\n\u001b[1;32m    158\u001b[0m \u001b[38;5;124;03m\"\"\"\u001b[39;00m\n\u001b[1;32m    159\u001b[0m connections \u001b[38;5;241m=\u001b[39m kwargs\u001b[38;5;241m.\u001b[39mpop(\u001b[38;5;124m'\u001b[39m\u001b[38;5;124mconnections\u001b[39m\u001b[38;5;124m'\u001b[39m, {})\n\u001b[0;32m--> 160\u001b[0m stage \u001b[38;5;241m=\u001b[39m \u001b[38;5;28;43mcls\u001b[39;49m\u001b[38;5;241;43m.\u001b[39;49m\u001b[43mmake_stage\u001b[49m\u001b[43m(\u001b[49m\u001b[38;5;241;43m*\u001b[39;49m\u001b[38;5;241;43m*\u001b[39;49m\u001b[43mkwargs\u001b[49m\u001b[43m)\u001b[49m\n\u001b[1;32m    161\u001b[0m \u001b[38;5;28;01mfor\u001b[39;00m key, val \u001b[38;5;129;01min\u001b[39;00m connections\u001b[38;5;241m.\u001b[39mitems():\n\u001b[1;32m    162\u001b[0m     stage\u001b[38;5;241m.\u001b[39mset_data(key, val, do_read\u001b[38;5;241m=\u001b[39m\u001b[38;5;28;01mFalse\u001b[39;00m)\n",
      "File \u001b[0;32m~/.conda/envs/rail_dev/lib/python3.11/site-packages/ceci/stage.py:115\u001b[0m, in \u001b[0;36mPipelineStage.make_stage\u001b[0;34m(cls, **kwargs)\u001b[0m\n\u001b[1;32m    113\u001b[0m         aliases[outtag] \u001b[38;5;241m=\u001b[39m \u001b[38;5;124mf\u001b[39m\u001b[38;5;124m\"\u001b[39m\u001b[38;5;132;01m{\u001b[39;00mouttag\u001b[38;5;132;01m}\u001b[39;00m\u001b[38;5;124m_\u001b[39m\u001b[38;5;132;01m{\u001b[39;00mname\u001b[38;5;132;01m}\u001b[39;00m\u001b[38;5;124m\"\u001b[39m\n\u001b[1;32m    114\u001b[0m kwcopy[\u001b[38;5;124m\"\u001b[39m\u001b[38;5;124maliases\u001b[39m\u001b[38;5;124m\"\u001b[39m] \u001b[38;5;241m=\u001b[39m aliases\n\u001b[0;32m--> 115\u001b[0m \u001b[38;5;28;01mreturn\u001b[39;00m \u001b[38;5;28;43mcls\u001b[39;49m\u001b[43m(\u001b[49m\u001b[43mkwcopy\u001b[49m\u001b[43m,\u001b[49m\u001b[43m \u001b[49m\u001b[43mcomm\u001b[49m\u001b[38;5;241;43m=\u001b[39;49m\u001b[43mcomm\u001b[49m\u001b[43m)\u001b[49m\n",
      "File \u001b[0;32m/global/u2/q/qhang/desc/rail_pzflow/src/rail/creation/engines/flowEngine.py:181\u001b[0m, in \u001b[0;36mFlowCreator.__init__\u001b[0;34m(self, args, comm)\u001b[0m\n\u001b[1;32m    176\u001b[0m \u001b[38;5;28;01mdef\u001b[39;00m \u001b[38;5;21m__init__\u001b[39m(\u001b[38;5;28mself\u001b[39m, args, comm\u001b[38;5;241m=\u001b[39m\u001b[38;5;28;01mNone\u001b[39;00m):\n\u001b[1;32m    177\u001b[0m \u001b[38;5;250m    \u001b[39m\u001b[38;5;124;03m\"\"\"Constructor\u001b[39;00m\n\u001b[1;32m    178\u001b[0m \n\u001b[1;32m    179\u001b[0m \u001b[38;5;124;03m    Does standard Creator initialization and also gets the `Flow` object\u001b[39;00m\n\u001b[1;32m    180\u001b[0m \u001b[38;5;124;03m    \"\"\"\u001b[39;00m\n\u001b[0;32m--> 181\u001b[0m     \u001b[43mCreator\u001b[49m\u001b[38;5;241;43m.\u001b[39;49m\u001b[38;5;21;43m__init__\u001b[39;49m\u001b[43m(\u001b[49m\u001b[38;5;28;43mself\u001b[39;49m\u001b[43m,\u001b[49m\u001b[43m \u001b[49m\u001b[43margs\u001b[49m\u001b[43m,\u001b[49m\u001b[43m \u001b[49m\u001b[43mcomm\u001b[49m\u001b[38;5;241;43m=\u001b[39;49m\u001b[43mcomm\u001b[49m\u001b[43m)\u001b[49m\n",
      "File \u001b[0;32m/global/u2/q/qhang/desc/rail_base/src/rail/creation/engine.py:65\u001b[0m, in \u001b[0;36mCreator.__init__\u001b[0;34m(self, args, comm)\u001b[0m\n\u001b[1;32m     63\u001b[0m \u001b[38;5;28;01mif\u001b[39;00m \u001b[38;5;129;01mnot\u001b[39;00m \u001b[38;5;28misinstance\u001b[39m(args, \u001b[38;5;28mdict\u001b[39m):  \u001b[38;5;66;03m# pragma: no cover\u001b[39;00m\n\u001b[1;32m     64\u001b[0m     args \u001b[38;5;241m=\u001b[39m \u001b[38;5;28mvars\u001b[39m(args)\n\u001b[0;32m---> 65\u001b[0m \u001b[38;5;28;43mself\u001b[39;49m\u001b[38;5;241;43m.\u001b[39;49m\u001b[43mopen_model\u001b[49m\u001b[43m(\u001b[49m\u001b[38;5;241;43m*\u001b[39;49m\u001b[38;5;241;43m*\u001b[39;49m\u001b[43margs\u001b[49m\u001b[43m)\u001b[49m\n",
      "File \u001b[0;32m/global/u2/q/qhang/desc/rail_base/src/rail/creation/engine.py:87\u001b[0m, in \u001b[0;36mCreator.open_model\u001b[0;34m(self, **kwargs)\u001b[0m\n\u001b[1;32m     85\u001b[0m     \u001b[38;5;28;01mreturn\u001b[39;00m \u001b[38;5;28mself\u001b[39m\u001b[38;5;241m.\u001b[39mmodel\n\u001b[1;32m     86\u001b[0m \u001b[38;5;28;01mif\u001b[39;00m \u001b[38;5;28misinstance\u001b[39m(model, \u001b[38;5;28mstr\u001b[39m):  \u001b[38;5;66;03m# pragma: no cover\u001b[39;00m\n\u001b[0;32m---> 87\u001b[0m     \u001b[38;5;28mself\u001b[39m\u001b[38;5;241m.\u001b[39mmodel \u001b[38;5;241m=\u001b[39m \u001b[38;5;28;43mself\u001b[39;49m\u001b[38;5;241;43m.\u001b[39;49m\u001b[43mset_data\u001b[49m\u001b[43m(\u001b[49m\u001b[38;5;124;43m\"\u001b[39;49m\u001b[38;5;124;43mmodel\u001b[39;49m\u001b[38;5;124;43m\"\u001b[39;49m\u001b[43m,\u001b[49m\u001b[43m \u001b[49m\u001b[43mdata\u001b[49m\u001b[38;5;241;43m=\u001b[39;49m\u001b[38;5;28;43;01mNone\u001b[39;49;00m\u001b[43m,\u001b[49m\u001b[43m \u001b[49m\u001b[43mpath\u001b[49m\u001b[38;5;241;43m=\u001b[39;49m\u001b[43mmodel\u001b[49m\u001b[43m)\u001b[49m\n\u001b[1;32m     88\u001b[0m     \u001b[38;5;28mself\u001b[39m\u001b[38;5;241m.\u001b[39mconfig[\u001b[38;5;124m\"\u001b[39m\u001b[38;5;124mmodel\u001b[39m\u001b[38;5;124m\"\u001b[39m] \u001b[38;5;241m=\u001b[39m model\n\u001b[1;32m     89\u001b[0m     \u001b[38;5;28;01mreturn\u001b[39;00m \u001b[38;5;28mself\u001b[39m\u001b[38;5;241m.\u001b[39mmodel\n",
      "File \u001b[0;32m/global/u2/q/qhang/desc/rail_base/src/rail/core/stage.py:294\u001b[0m, in \u001b[0;36mRailStage.set_data\u001b[0;34m(self, tag, data, path, do_read)\u001b[0m\n\u001b[1;32m    292\u001b[0m \u001b[38;5;28;01mif\u001b[39;00m \u001b[38;5;129;01mnot\u001b[39;00m handle\u001b[38;5;241m.\u001b[39mhas_data:\n\u001b[1;32m    293\u001b[0m     \u001b[38;5;28;01mif\u001b[39;00m arg_data \u001b[38;5;129;01mis\u001b[39;00m \u001b[38;5;28;01mNone\u001b[39;00m \u001b[38;5;129;01mand\u001b[39;00m do_read:\n\u001b[0;32m--> 294\u001b[0m         \u001b[43mhandle\u001b[49m\u001b[38;5;241;43m.\u001b[39;49m\u001b[43mread\u001b[49m\u001b[43m(\u001b[49m\u001b[43m)\u001b[49m\n\u001b[1;32m    295\u001b[0m     \u001b[38;5;28;01mif\u001b[39;00m arg_data \u001b[38;5;129;01mis\u001b[39;00m \u001b[38;5;129;01mnot\u001b[39;00m \u001b[38;5;28;01mNone\u001b[39;00m:\n\u001b[1;32m    296\u001b[0m         handle\u001b[38;5;241m.\u001b[39mdata \u001b[38;5;241m=\u001b[39m arg_data\n",
      "File \u001b[0;32m/global/u2/q/qhang/desc/rail_base/src/rail/core/data.py:62\u001b[0m, in \u001b[0;36mDataHandle.read\u001b[0;34m(self, force, **kwargs)\u001b[0m\n\u001b[1;32m     60\u001b[0m \u001b[38;5;28;01mif\u001b[39;00m \u001b[38;5;28mself\u001b[39m\u001b[38;5;241m.\u001b[39mdata \u001b[38;5;129;01mis\u001b[39;00m \u001b[38;5;129;01mnot\u001b[39;00m \u001b[38;5;28;01mNone\u001b[39;00m \u001b[38;5;129;01mand\u001b[39;00m \u001b[38;5;129;01mnot\u001b[39;00m force:\n\u001b[1;32m     61\u001b[0m     \u001b[38;5;28;01mreturn\u001b[39;00m \u001b[38;5;28mself\u001b[39m\u001b[38;5;241m.\u001b[39mdata\n\u001b[0;32m---> 62\u001b[0m \u001b[38;5;28mself\u001b[39m\u001b[38;5;241m.\u001b[39mset_data(\u001b[38;5;28;43mself\u001b[39;49m\u001b[38;5;241;43m.\u001b[39;49m\u001b[43m_read\u001b[49m\u001b[43m(\u001b[49m\u001b[43mos\u001b[49m\u001b[38;5;241;43m.\u001b[39;49m\u001b[43mpath\u001b[49m\u001b[38;5;241;43m.\u001b[39;49m\u001b[43mexpandvars\u001b[49m\u001b[43m(\u001b[49m\u001b[38;5;28;43mself\u001b[39;49m\u001b[38;5;241;43m.\u001b[39;49m\u001b[43mpath\u001b[49m\u001b[43m)\u001b[49m\u001b[43m,\u001b[49m\u001b[43m \u001b[49m\u001b[38;5;241;43m*\u001b[39;49m\u001b[38;5;241;43m*\u001b[39;49m\u001b[43mkwargs\u001b[49m\u001b[43m)\u001b[49m)\n\u001b[1;32m     63\u001b[0m \u001b[38;5;28;01mreturn\u001b[39;00m \u001b[38;5;28mself\u001b[39m\u001b[38;5;241m.\u001b[39mdata\n",
      "File \u001b[0;32m/global/u2/q/qhang/desc/rail_pzflow/src/rail/tools/flow_handle.py:52\u001b[0m, in \u001b[0;36mFlowHandle._read\u001b[0;34m(cls, path, **kwargs)\u001b[0m\n\u001b[1;32m     49\u001b[0m \u001b[38;5;129m@classmethod\u001b[39m\n\u001b[1;32m     50\u001b[0m \u001b[38;5;28;01mdef\u001b[39;00m \u001b[38;5;21m_read\u001b[39m(\u001b[38;5;28mcls\u001b[39m, path, \u001b[38;5;241m*\u001b[39m\u001b[38;5;241m*\u001b[39mkwargs):\n\u001b[1;32m     51\u001b[0m \u001b[38;5;250m    \u001b[39m\u001b[38;5;124;03m\"\"\"Read and return the data from the associated file \"\"\"\u001b[39;00m\n\u001b[0;32m---> 52\u001b[0m     \u001b[38;5;28;01mreturn\u001b[39;00m \u001b[38;5;28;43mcls\u001b[39;49m\u001b[38;5;241;43m.\u001b[39;49m\u001b[43mflow_factory\u001b[49m\u001b[38;5;241;43m.\u001b[39;49m\u001b[43mread\u001b[49m\u001b[43m(\u001b[49m\u001b[43mpath\u001b[49m\u001b[43m,\u001b[49m\u001b[43m \u001b[49m\u001b[38;5;241;43m*\u001b[39;49m\u001b[38;5;241;43m*\u001b[39;49m\u001b[43mkwargs\u001b[49m\u001b[43m)\u001b[49m\n",
      "File \u001b[0;32m/global/u2/q/qhang/desc/rail_pzflow/src/rail/tools/flow_handle.py:29\u001b[0m, in \u001b[0;36mFlowDict.read\u001b[0;34m(self, path, force)\u001b[0m\n\u001b[1;32m     27\u001b[0m \u001b[38;5;28;01mfrom\u001b[39;00m \u001b[38;5;21;01mpzflow\u001b[39;00m \u001b[38;5;28;01mimport\u001b[39;00m Flow\n\u001b[1;32m     28\u001b[0m \u001b[38;5;28;01mif\u001b[39;00m force \u001b[38;5;129;01mor\u001b[39;00m path \u001b[38;5;129;01mnot\u001b[39;00m \u001b[38;5;129;01min\u001b[39;00m \u001b[38;5;28mself\u001b[39m:\n\u001b[0;32m---> 29\u001b[0m     flow \u001b[38;5;241m=\u001b[39m \u001b[43mFlow\u001b[49m\u001b[43m(\u001b[49m\u001b[43mfile\u001b[49m\u001b[38;5;241;43m=\u001b[39;49m\u001b[43mpath\u001b[49m\u001b[43m)\u001b[49m\n\u001b[1;32m     30\u001b[0m     \u001b[38;5;28mself\u001b[39m\u001b[38;5;241m.\u001b[39m\u001b[38;5;21m__setitem__\u001b[39m(path, flow)\n\u001b[1;32m     31\u001b[0m     \u001b[38;5;28;01mreturn\u001b[39;00m flow\n",
      "File \u001b[0;32m~/.conda/envs/rail_dev/lib/python3.11/site-packages/pzflow/flow.py:184\u001b[0m, in \u001b[0;36mFlow.__init__\u001b[0;34m(self, data_columns, bijector, latent, conditional_columns, data_error_model, condition_error_model, autoscale_conditions, seed, info, file, _dictionary)\u001b[0m\n\u001b[1;32m    182\u001b[0m \u001b[38;5;28mself\u001b[39m\u001b[38;5;241m.\u001b[39m_bijector_info \u001b[38;5;241m=\u001b[39m save_dict[\u001b[38;5;124m\"\u001b[39m\u001b[38;5;124mbijector_info\u001b[39m\u001b[38;5;124m\"\u001b[39m]\n\u001b[1;32m    183\u001b[0m \u001b[38;5;28;01mif\u001b[39;00m \u001b[38;5;28mself\u001b[39m\u001b[38;5;241m.\u001b[39m_bijector_info \u001b[38;5;129;01mis\u001b[39;00m \u001b[38;5;129;01mnot\u001b[39;00m \u001b[38;5;28;01mNone\u001b[39;00m:\n\u001b[0;32m--> 184\u001b[0m     init_fun, _ \u001b[38;5;241m=\u001b[39m \u001b[43mbuild_bijector_from_info\u001b[49m\u001b[43m(\u001b[49m\u001b[38;5;28;43mself\u001b[39;49m\u001b[38;5;241;43m.\u001b[39;49m\u001b[43m_bijector_info\u001b[49m\u001b[43m)\u001b[49m\n\u001b[1;32m    185\u001b[0m     _, \u001b[38;5;28mself\u001b[39m\u001b[38;5;241m.\u001b[39m_forward, \u001b[38;5;28mself\u001b[39m\u001b[38;5;241m.\u001b[39m_inverse \u001b[38;5;241m=\u001b[39m init_fun(\n\u001b[1;32m    186\u001b[0m         random\u001b[38;5;241m.\u001b[39mPRNGKey(\u001b[38;5;241m0\u001b[39m), \u001b[38;5;28mself\u001b[39m\u001b[38;5;241m.\u001b[39m_input_dim\n\u001b[1;32m    187\u001b[0m     )\n\u001b[1;32m    188\u001b[0m \u001b[38;5;28mself\u001b[39m\u001b[38;5;241m.\u001b[39m_params \u001b[38;5;241m=\u001b[39m save_dict[\u001b[38;5;124m\"\u001b[39m\u001b[38;5;124mparams\u001b[39m\u001b[38;5;124m\"\u001b[39m]\n",
      "File \u001b[0;32m~/.conda/envs/rail_dev/lib/python3.11/site-packages/pzflow/utils.py:16\u001b[0m, in \u001b[0;36mbuild_bijector_from_info\u001b[0;34m(info)\u001b[0m\n\u001b[1;32m     14\u001b[0m \u001b[38;5;66;03m# recurse through chains\u001b[39;00m\n\u001b[1;32m     15\u001b[0m \u001b[38;5;28;01mif\u001b[39;00m info[\u001b[38;5;241m0\u001b[39m] \u001b[38;5;241m==\u001b[39m \u001b[38;5;124m\"\u001b[39m\u001b[38;5;124mChain\u001b[39m\u001b[38;5;124m\"\u001b[39m:\n\u001b[0;32m---> 16\u001b[0m     \u001b[38;5;28;01mreturn\u001b[39;00m \u001b[43mbijectors\u001b[49m\u001b[38;5;241;43m.\u001b[39;49m\u001b[43mChain\u001b[49m\u001b[43m(\u001b[49m\u001b[38;5;241;43m*\u001b[39;49m\u001b[43m(\u001b[49m\u001b[43mbuild_bijector_from_info\u001b[49m\u001b[43m(\u001b[49m\u001b[43mi\u001b[49m\u001b[43m)\u001b[49m\u001b[43m \u001b[49m\u001b[38;5;28;43;01mfor\u001b[39;49;00m\u001b[43m \u001b[49m\u001b[43mi\u001b[49m\u001b[43m \u001b[49m\u001b[38;5;129;43;01min\u001b[39;49;00m\u001b[43m \u001b[49m\u001b[43minfo\u001b[49m\u001b[43m[\u001b[49m\u001b[38;5;241;43m1\u001b[39;49m\u001b[43m]\u001b[49m\u001b[43m)\u001b[49m\u001b[43m)\u001b[49m\n\u001b[1;32m     17\u001b[0m \u001b[38;5;66;03m# build individual bijector from name and parameters\u001b[39;00m\n\u001b[1;32m     18\u001b[0m \u001b[38;5;28;01melse\u001b[39;00m:\n\u001b[1;32m     19\u001b[0m     \u001b[38;5;28;01mreturn\u001b[39;00m \u001b[38;5;28mgetattr\u001b[39m(bijectors, info[\u001b[38;5;241m0\u001b[39m])(\u001b[38;5;241m*\u001b[39minfo[\u001b[38;5;241m1\u001b[39m])\n",
      "File \u001b[0;32m~/.conda/envs/rail_dev/lib/python3.11/site-packages/pzflow/utils.py:16\u001b[0m, in \u001b[0;36m<genexpr>\u001b[0;34m(.0)\u001b[0m\n\u001b[1;32m     14\u001b[0m \u001b[38;5;66;03m# recurse through chains\u001b[39;00m\n\u001b[1;32m     15\u001b[0m \u001b[38;5;28;01mif\u001b[39;00m info[\u001b[38;5;241m0\u001b[39m] \u001b[38;5;241m==\u001b[39m \u001b[38;5;124m\"\u001b[39m\u001b[38;5;124mChain\u001b[39m\u001b[38;5;124m\"\u001b[39m:\n\u001b[0;32m---> 16\u001b[0m     \u001b[38;5;28;01mreturn\u001b[39;00m bijectors\u001b[38;5;241m.\u001b[39mChain(\u001b[38;5;241m*\u001b[39m(\u001b[43mbuild_bijector_from_info\u001b[49m\u001b[43m(\u001b[49m\u001b[43mi\u001b[49m\u001b[43m)\u001b[49m \u001b[38;5;28;01mfor\u001b[39;00m i \u001b[38;5;129;01min\u001b[39;00m info[\u001b[38;5;241m1\u001b[39m]))\n\u001b[1;32m     17\u001b[0m \u001b[38;5;66;03m# build individual bijector from name and parameters\u001b[39;00m\n\u001b[1;32m     18\u001b[0m \u001b[38;5;28;01melse\u001b[39;00m:\n\u001b[1;32m     19\u001b[0m     \u001b[38;5;28;01mreturn\u001b[39;00m \u001b[38;5;28mgetattr\u001b[39m(bijectors, info[\u001b[38;5;241m0\u001b[39m])(\u001b[38;5;241m*\u001b[39minfo[\u001b[38;5;241m1\u001b[39m])\n",
      "File \u001b[0;32m~/.conda/envs/rail_dev/lib/python3.11/site-packages/pzflow/utils.py:19\u001b[0m, in \u001b[0;36mbuild_bijector_from_info\u001b[0;34m(info)\u001b[0m\n\u001b[1;32m     16\u001b[0m     \u001b[38;5;28;01mreturn\u001b[39;00m bijectors\u001b[38;5;241m.\u001b[39mChain(\u001b[38;5;241m*\u001b[39m(build_bijector_from_info(i) \u001b[38;5;28;01mfor\u001b[39;00m i \u001b[38;5;129;01min\u001b[39;00m info[\u001b[38;5;241m1\u001b[39m]))\n\u001b[1;32m     17\u001b[0m \u001b[38;5;66;03m# build individual bijector from name and parameters\u001b[39;00m\n\u001b[1;32m     18\u001b[0m \u001b[38;5;28;01melse\u001b[39;00m:\n\u001b[0;32m---> 19\u001b[0m     \u001b[38;5;28;01mreturn\u001b[39;00m \u001b[38;5;28;43mgetattr\u001b[39;49m\u001b[43m(\u001b[49m\u001b[43mbijectors\u001b[49m\u001b[43m,\u001b[49m\u001b[43m \u001b[49m\u001b[43minfo\u001b[49m\u001b[43m[\u001b[49m\u001b[38;5;241;43m0\u001b[39;49m\u001b[43m]\u001b[49m\u001b[43m)\u001b[49m\u001b[43m(\u001b[49m\u001b[38;5;241;43m*\u001b[39;49m\u001b[43minfo\u001b[49m\u001b[43m[\u001b[49m\u001b[38;5;241;43m1\u001b[39;49m\u001b[43m]\u001b[49m\u001b[43m)\u001b[49m\n",
      "File \u001b[0;32m~/.conda/envs/rail_dev/lib/python3.11/site-packages/pzflow/bijectors.py:118\u001b[0m, in \u001b[0;36mBijector.__call__\u001b[0;34m(self, *args, **kwargs)\u001b[0m\n\u001b[1;32m    117\u001b[0m \u001b[38;5;28;01mdef\u001b[39;00m \u001b[38;5;21m__call__\u001b[39m(\u001b[38;5;28mself\u001b[39m, \u001b[38;5;241m*\u001b[39margs, \u001b[38;5;241m*\u001b[39m\u001b[38;5;241m*\u001b[39mkwargs) \u001b[38;5;241m-\u001b[39m\u001b[38;5;241m>\u001b[39m Tuple[InitFunction, Bijector_Info]:\n\u001b[0;32m--> 118\u001b[0m     \u001b[38;5;28;01mreturn\u001b[39;00m \u001b[38;5;28;43mself\u001b[39;49m\u001b[38;5;241;43m.\u001b[39;49m\u001b[43m_func\u001b[49m\u001b[43m(\u001b[49m\u001b[38;5;241;43m*\u001b[39;49m\u001b[43margs\u001b[49m\u001b[43m,\u001b[49m\u001b[43m \u001b[49m\u001b[38;5;241;43m*\u001b[39;49m\u001b[38;5;241;43m*\u001b[39;49m\u001b[43mkwargs\u001b[49m\u001b[43m)\u001b[49m\n",
      "File \u001b[0;32m~/.conda/envs/rail_dev/lib/python3.11/site-packages/pzflow/bijectors.py:345\u001b[0m, in \u001b[0;36mInvSoftplus\u001b[0;34m(column_idx, sharpness)\u001b[0m\n\u001b[1;32m    316\u001b[0m \u001b[38;5;129m@Bijector\u001b[39m\n\u001b[1;32m    317\u001b[0m \u001b[38;5;28;01mdef\u001b[39;00m \u001b[38;5;21mInvSoftplus\u001b[39m(\n\u001b[1;32m    318\u001b[0m     column_idx: \u001b[38;5;28mint\u001b[39m, sharpness: \u001b[38;5;28mfloat\u001b[39m \u001b[38;5;241m=\u001b[39m \u001b[38;5;241m1\u001b[39m\n\u001b[1;32m    319\u001b[0m ) \u001b[38;5;241m-\u001b[39m\u001b[38;5;241m>\u001b[39m Tuple[InitFunction, Bijector_Info]:\n\u001b[1;32m    320\u001b[0m \u001b[38;5;250m    \u001b[39m\u001b[38;5;124;03m\"\"\"Bijector that applies inverse softplus to the specified column(s).\u001b[39;00m\n\u001b[1;32m    321\u001b[0m \n\u001b[1;32m    322\u001b[0m \u001b[38;5;124;03m    Applying the inverse softplus ensures that samples from that column will\u001b[39;00m\n\u001b[0;32m   (...)\u001b[0m\n\u001b[1;32m    342\u001b[0m \u001b[38;5;124;03m        This allows it to be recreated later.\u001b[39;00m\n\u001b[1;32m    343\u001b[0m \u001b[38;5;124;03m    \"\"\"\u001b[39;00m\n\u001b[0;32m--> 345\u001b[0m     idx \u001b[38;5;241m=\u001b[39m \u001b[43mjnp\u001b[49m\u001b[38;5;241;43m.\u001b[39;49m\u001b[43matleast_1d\u001b[49m\u001b[43m(\u001b[49m\u001b[43mcolumn_idx\u001b[49m\u001b[43m)\u001b[49m\n\u001b[1;32m    346\u001b[0m     k \u001b[38;5;241m=\u001b[39m jnp\u001b[38;5;241m.\u001b[39matleast_1d(sharpness)\n\u001b[1;32m    347\u001b[0m     \u001b[38;5;28;01mif\u001b[39;00m \u001b[38;5;28mlen\u001b[39m(idx) \u001b[38;5;241m!=\u001b[39m \u001b[38;5;28mlen\u001b[39m(k) \u001b[38;5;129;01mand\u001b[39;00m \u001b[38;5;28mlen\u001b[39m(k) \u001b[38;5;241m!=\u001b[39m \u001b[38;5;241m1\u001b[39m:\n",
      "    \u001b[0;31m[... skipping hidden 14 frame]\u001b[0m\n",
      "File \u001b[0;32m~/.conda/envs/rail_dev/lib/python3.11/site-packages/jax/_src/dispatch.py:464\u001b[0m, in \u001b[0;36mbackend_compile\u001b[0;34m(backend, module, options, host_callbacks)\u001b[0m\n\u001b[1;32m    459\u001b[0m   \u001b[38;5;28;01mreturn\u001b[39;00m backend\u001b[38;5;241m.\u001b[39mcompile(built_c, compile_options\u001b[38;5;241m=\u001b[39moptions,\n\u001b[1;32m    460\u001b[0m                          host_callbacks\u001b[38;5;241m=\u001b[39mhost_callbacks)\n\u001b[1;32m    461\u001b[0m \u001b[38;5;66;03m# Some backends don't have `host_callbacks` option yet\u001b[39;00m\n\u001b[1;32m    462\u001b[0m \u001b[38;5;66;03m# TODO(sharadmv): remove this fallback when all backends allow `compile`\u001b[39;00m\n\u001b[1;32m    463\u001b[0m \u001b[38;5;66;03m# to take in `host_callbacks`\u001b[39;00m\n\u001b[0;32m--> 464\u001b[0m \u001b[38;5;28;01mreturn\u001b[39;00m \u001b[43mbackend\u001b[49m\u001b[38;5;241;43m.\u001b[39;49m\u001b[43mcompile\u001b[49m\u001b[43m(\u001b[49m\u001b[43mbuilt_c\u001b[49m\u001b[43m,\u001b[49m\u001b[43m \u001b[49m\u001b[43mcompile_options\u001b[49m\u001b[38;5;241;43m=\u001b[39;49m\u001b[43moptions\u001b[49m\u001b[43m)\u001b[49m\n",
      "\u001b[0;31mXlaRuntimeError\u001b[0m: FAILED_PRECONDITION: DNN library initialization failed. Look at the errors above for more details."
     ]
    }
   ],
   "source": [
    "pipe = SurveyNonuniformDegraderPipeline()"
   ]
  },
  {
   "cell_type": "code",
   "execution_count": 12,
   "id": "6621e102-b0dd-4fb8-a524-6b4545189cf9",
   "metadata": {
    "tags": []
   },
   "outputs": [],
   "source": [
    "namer = NameFactory()"
   ]
  },
  {
   "cell_type": "markdown",
   "id": "511c9722-9c09-44a1-8b7e-6d058a199297",
   "metadata": {},
   "source": [
    "### Define parameters for each stage"
   ]
  },
  {
   "cell_type": "code",
   "execution_count": null,
   "id": "526a1831-6094-4ff2-826b-0c3df8662b29",
   "metadata": {},
   "outputs": [],
   "source": [
    "# dictionary used by ObsCondition\n",
    "# first define a set of input map directories:\n",
    "\n",
    "base_path = \"/pscratch/sd/q/qhang/rubin_baseline_v2/MAF-1year/\"\n",
    "\n",
    "# nside of these maps:\n",
    "nside=128\n",
    "\n",
    "# seeing maps:\n",
    "seeing_u = base_path + \"baseline_v2_0_10yrs_Median_seeingFwhmEff_u_and_nightlt365_HEAL.fits\"\n",
    "seeing_g = base_path + \"baseline_v2_0_10yrs_Median_seeingFwhmEff_g_and_nightlt365_HEAL.fits\"\n",
    "seeing_r = base_path + \"baseline_v2_0_10yrs_Median_seeingFwhmEff_r_and_nightlt365_HEAL.fits\"\n",
    "seeing_i = base_path + \"baseline_v2_0_10yrs_Median_seeingFwhmEff_i_and_nightlt365_HEAL.fits\"\n",
    "seeing_z = base_path + \"baseline_v2_0_10yrs_Median_seeingFwhmEff_z_and_nightlt365_HEAL.fits\"\n",
    "seeing_y = base_path + \"baseline_v2_0_10yrs_Median_seeingFwhmEff_y_and_nightlt365_HEAL.fits\"\n",
    "\n",
    "# coadd depth maps:\n",
    "coaddm5_u = base_path + \"baseline_v2_0_10yrs_CoaddM5_u_and_nightlt365_HEAL.fits\"\n",
    "coaddm5_g = base_path + \"baseline_v2_0_10yrs_CoaddM5_g_and_nightlt365_HEAL.fits\"\n",
    "coaddm5_r = base_path + \"baseline_v2_0_10yrs_CoaddM5_r_and_nightlt365_HEAL.fits\"\n",
    "coaddm5_i = base_path + \"baseline_v2_0_10yrs_CoaddM5_i_and_nightlt365_HEAL.fits\"\n",
    "coaddm5_z = base_path + \"baseline_v2_0_10yrs_CoaddM5_z_and_nightlt365_HEAL.fits\"\n",
    "coaddm5_y = base_path + \"baseline_v2_0_10yrs_CoaddM5_y_and_nightlt365_HEAL.fits\"\n",
    "\n",
    "# here we will set the observing year and number of visits per year to 1, because we are supplying coadd depth\n",
    "\n",
    "# mask:\n",
    "maskdir = base_path + \"../wfd_footprint_nvisitcut_500_nside_128.fits\"\n",
    "\n",
    "# weight: for now we supply uniform weight\n",
    "\n",
    "# choose the systematic map to examine, here we choose the combined depth:\n",
    "sys_to_check = base_path + \"baseline_v2_0_10yrs_CoaddM5_i_and_nightlt365_HEAL.fits\"\n",
    "sys = \"CoaddM5\"\n",
    "\n",
    "map_dict={\n",
    "        \"theta\": {\n",
    "            \"u\": seeing_u,\n",
    "            \"g\": seeing_g,\n",
    "            \"r\": seeing_r,\n",
    "            \"i\": seeing_i,\n",
    "            \"z\": seeing_z,\n",
    "            \"y\": seeing_y,\n",
    "        },\n",
    "        \"m5\": {\n",
    "            \"u\": coaddm5_u,\n",
    "            \"g\": coaddm5_g,\n",
    "            \"r\": coaddm5_r,\n",
    "            \"i\": coaddm5_i,\n",
    "            \"z\": coaddm5_z,\n",
    "            \"y\": coaddm5_y,\n",
    "        },\n",
    "        \"nYrObs\": 1.,\n",
    "        \"nVisYr\": {\n",
    "            \"u\": 1.,\n",
    "            \"g\": 1.,\n",
    "            \"r\": 1.,\n",
    "            \"i\": 1.,\n",
    "            \"z\": 1.,\n",
    "            \"y\": 1., \n",
    "        },\n",
    "        \"sigLim\": 10,\n",
    "        \"ndFlag\": np.nan,\n",
    "        \"extendedType\": \"auto\",\n",
    "        \"majorCol\": \"major\",\n",
    "        \"minorCol\": \"minor\",\n",
    "        \"decorrelate\": True,\n",
    "        \"highSNR\": False,\n",
    "        \"renameDict\": band_dict,  \n",
    "    }"
   ]
  },
  {
   "cell_type": "code",
   "execution_count": null,
   "id": "2a64eb7b-d67e-422d-a60a-ed0085bbf677",
   "metadata": {},
   "outputs": [],
   "source": [
    "pipe.flow_engine_train.config.update(n_samples=20)\n",
    "pipe.obs_condition.config.update(map_dict=map_dict, nside=nside, mask = maskdir, weight = \"\",)\n",
    "pipe.deredden.config.update(dustmap_dir=\".\",)# where to save the dust map downloaded\n",
    "pipe.estimate_bpz.config.update(spec_groupname = \"\", redshift_colname = 'redshift', prior_band='i',)"
   ]
  },
  {
   "cell_type": "code",
   "execution_count": null,
   "id": "ff0d1439-169b-45dc-b224-27cc3189aab9",
   "metadata": {},
   "outputs": [],
   "source": [
    "pipe_info = pipe.initialize(input_dict, dict(output_dir='.', log_dir='.', resume=True), None)"
   ]
  },
  {
   "cell_type": "markdown",
   "id": "e0b21b58-94ca-425a-bf23-aedcc34cf233",
   "metadata": {},
   "source": [
    "### Save the pipeline into a yml file"
   ]
  },
  {
   "cell_type": "code",
   "execution_count": null,
   "id": "bcd3534c-ce25-48d9-a629-49ce17cdd279",
   "metadata": {},
   "outputs": [],
   "source": [
    "pipe.save('tmp_survey_nonuniformity.yml')"
   ]
  },
  {
   "cell_type": "markdown",
   "id": "333d990d-8050-4815-8329-74af6e94ada6",
   "metadata": {},
   "source": [
    "### run pipeline"
   ]
  },
  {
   "cell_type": "code",
   "execution_count": null,
   "id": "7943d633-f27c-469b-944b-2ea79ee011ec",
   "metadata": {},
   "outputs": [],
   "source": [
    "import ceci\n",
    "pr = ceci.Pipeline.read('tmp_survey_nonuniformity.yml')"
   ]
  },
  {
   "cell_type": "code",
   "execution_count": null,
   "id": "a206fbe7-757e-4df6-803f-3abf170874de",
   "metadata": {},
   "outputs": [],
   "source": [
    "pr.run()"
   ]
  },
  {
   "cell_type": "markdown",
   "id": "5a507f0b-c130-4c74-b964-262f97c49629",
   "metadata": {},
   "source": [
    "# Redshift distribution in each tomographic bins at different depth:"
   ]
  },
  {
   "cell_type": "code",
   "execution_count": null,
   "id": "1761c908-9b6f-43f2-88c2-1614b48170eb",
   "metadata": {},
   "outputs": [],
   "source": [
    "# tomographic bin n(z) at different depth:\n",
    "\n",
    "# load the specific systematic map & mask to check correlation\n",
    "mapin = hp.read_map(sys_to_check)\n",
    "mask = hp.read_map(maskdir)\n",
    "# quantile contains pixel indices, and meanv is the mean value of the systematic maps in each quantile\n",
    "quantile, meanv = split_sys_map_quantiles(mapin, mask, nquantiles=nquantiles)"
   ]
  },
  {
   "cell_type": "code",
   "execution_count": null,
   "id": "8d104602-2715-4dc1-84c7-bf7c7123567e",
   "metadata": {},
   "outputs": [],
   "source": [
    "# compute simple summary statistic\n",
    "nzstat_summary_split={}\n",
    "\n",
    "for jj in range(npzbins):\n",
    "    nzstat_summary_split[\"tomo-%d\"%(jj+1)]={}\n",
    "    \n",
    "    ind0 = data_degraded_gold_tomo[\"tomo\"] == (jj+1)\n",
    "\n",
    "    for ii in range(nquantiles):\n",
    "        ind = np.in1d(data_degraded_gold_tomo[\"pixels\"], quantile[ii])\n",
    "        ind = ind * ind0\n",
    "        usecat = data_degraded_gold_tomo.loc[ind, :]\n",
    "        # now for each tomographic bin, return redshift distribution:\n",
    "        nzstat_summary_split[\"tomo-%d\"%(jj+1)][ii] = compute_nzstats(usecat, z_col, \n",
    "                                                                     zgrid=zgrid, nbootstrap=nbootstrap)\n",
    "\n",
    "    # compute the tot nz, meanz, sigmaz:\n",
    "    nzstat_summary_tot[\"tomo-%d\"%(jj+1)] = compute_nzstats(data_degraded_gold_tomo, z_col, \n",
    "                                                           zgrid=zgrid, nbootstrap=nbootstrap)"
   ]
  },
  {
   "cell_type": "code",
   "execution_count": null,
   "id": "828c9902-368c-4dcf-8b5d-3597c5004966",
   "metadata": {},
   "outputs": [],
   "source": [
    "# write to file:\n",
    "outroot = savedir + \"test-pz-with-i-band-coadd-Y1.yml\"\n",
    "write_evaluation_results(outroot, meanv, nzstat_summary_split, nzstat_summary_tot)"
   ]
  },
  {
   "cell_type": "code",
   "execution_count": null,
   "id": "10625947-c56f-4536-b8aa-72b64a0324a5",
   "metadata": {},
   "outputs": [],
   "source": [
    "# Show results in a plot:\n",
    "fig,axarr=plt.subplots(3,npzbins,figsize=[15,10],gridspec_kw={'height_ratios': [3, 1, 1]})\n",
    "\n",
    "## Top row: n(z) for each tomographic bin for each depth group\n",
    "## Middle row: change in meanz as a function of depth with bootstrap errors\n",
    "## Bottom row: change in sigmaz as a function of depth with boostrap errors\n",
    "\n",
    "for ii in range(npzbins):\n",
    "    \n",
    "    # top row\n",
    "    plt.sca(axarr[0,ii])\n",
    "    for q in range(nquantiles):\n",
    "        colorlab = q/(nquantiles*1.2)\n",
    "        nz = stat_summary_split[\"tomo-%d\"%(ii+1)][q][0]\n",
    "        plt.plot(nz[:,0], nz[:,1]/np.sum(nz[:,1])/(nz[1,0]-nz[0,0]), \n",
    "                color=cmap(colorlab))\n",
    "    plt.text(0.6, 3.5, \"tomo-%d\"%(ii+1))\n",
    "    plt.yticks([])\n",
    "    plt.xlabel(\"$z$\")\n",
    "    \n",
    "    # middle row\n",
    "    plt.sca(axarr[1, ii])\n",
    "    for q in range(nquantiles):\n",
    "        colorlab = q/(nquantiles*1.2)\n",
    "        \n",
    "        meanz = stat_summary_split[\"tomo-%d\"%(ii+1)][q][1]\n",
    "        meanztot = stat_summary_tot[\"tomo-%d\"%(ii+1)][q][1]\n",
    "        \n",
    "        plt.errorbar(meanv[q], meanz[0], yerr=meanz[1],fmt='o',\n",
    "                    color=cmap(colorlab))\n",
    "    #dz = 0.005*(1+meanztot[0])\n",
    "    plt.plot(meanv, np.ones(len(meanv))*meanztot[0], 'k-', alpha=0.5)\n",
    "    #plt.fill_between([meanv[0], meanv[-1]], [-dz, -dz], \n",
    "                    #[dz, dz],color='k',alpha=0.2)\n",
    "    if ii==0:\n",
    "        plt.ylabel(\"$\\\\langle z\\\\rangle$\")\n",
    "    if ii>0:\n",
    "        plt.yticks([])\n",
    "    #plt.xlabel(sys)\n",
    "    #plt.ylim([-0.015,0.015])\n",
    "    #plt.xlim([24.6, 25.7])\n",
    "    \n",
    "    # bottom row\n",
    "    plt.sca(axarr[2, ii])\n",
    "    for q in range(nquantiles):\n",
    "        colorlab = q/(nquantiles*1.2)\n",
    "        \n",
    "        sigmaz = stat_summary_split[\"tomo-%d\"%(ii+1)][q][2]\n",
    "        sigmaztot = stat_summary_tot[\"tomo-%d\"%(ii+1)][q][2]\n",
    "        \n",
    "        plt.errorbar(meanv[q], sigmaz[0], yerr=sigmaz[1],fmt='o',\n",
    "                    color=cmap(colorlab))\n",
    "    #dz = 0.005\n",
    "    plt.plot(meanv, np.ones(len(meanv))*sigmaztot[0], 'k-', alpha=0.5)\n",
    "    #plt.fill_between([meanv[0], meanv[-1]], [-dz, -dz], \n",
    "                    #[dz, dz],color='k',alpha=0.2)\n",
    "    if ii==0:\n",
    "        plt.ylabel(\"$\\\\sigma_z$\")\n",
    "    if ii>0:\n",
    "        plt.yticks([])\n",
    "    plt.xlabel(sys)\n",
    "    #plt.ylim([-0.015,0.015])\n",
    "\n",
    "plt.tight_layout()\n",
    "plt.saveifg(savedir + 'fig.png', bbox_inches='tight')"
   ]
  },
  {
   "cell_type": "code",
   "execution_count": null,
   "id": "01ad28db-62c0-4f2f-abc2-fc4f6ee54c94",
   "metadata": {},
   "outputs": [],
   "source": [
    "###tests"
   ]
  }
 ],
 "metadata": {
  "kernelspec": {
   "display_name": "rail_dev",
   "language": "python",
   "name": "rail_dev"
  },
  "language_info": {
   "codemirror_mode": {
    "name": "ipython",
    "version": 3
   },
   "file_extension": ".py",
   "mimetype": "text/x-python",
   "name": "python",
   "nbconvert_exporter": "python",
   "pygments_lexer": "ipython3",
   "version": "3.11.4"
  }
 },
 "nbformat": 4,
 "nbformat_minor": 5
}
