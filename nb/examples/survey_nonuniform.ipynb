{
 "cells": [
  {
   "cell_type": "code",
   "execution_count": null,
   "id": "62c833e4-fde5-4ba0-8406-966805b80ed2",
   "metadata": {},
   "outputs": [],
   "source": [
    "# usual imports\n",
    "import os\n",
    "import numpy as np\n",
    "import matplotlib.pyplot as plt\n",
    "from rail.core.utils import RAILDIR\n",
    "#from rail.estimation.algos.bpz_version.utils import RAIL_BPZ_DIR\n",
    "from rail.pipelines.examples.survey_nonuniformity.survey_nonuniformity import SurveyNonuniformDegraderPipeline\n",
    "from rail.core import common_params\n",
    "from rail.pipelines.utils.name_factory import NameFactory, DataType, CatalogType, ModelType, PdfType\n",
    "import qp\n",
    "import ceci\n"
   ]
  },
  {
   "cell_type": "code",
   "execution_count": null,
   "id": "db2a216d-7c15-4d45-b9d2-ca78fbdc8b27",
   "metadata": {},
   "outputs": [],
   "source": [
    "#change to your rail location\n",
    "RAIL_BPZ_DIR = \"/path/to/your/rail/src/\""
   ]
  },
  {
   "cell_type": "markdown",
   "id": "2d022101-7f7b-4fb1-abaa-f1a4243027f9",
   "metadata": {},
   "source": [
    "### Define the bands, magnitude limits, and put them into a dictionary"
   ]
  },
  {
   "cell_type": "code",
   "execution_count": null,
   "id": "64b4cc47-7ee0-461e-b574-1bbbdc0f2c15",
   "metadata": {},
   "outputs": [],
   "source": [
    "bands = 'grizy'\n",
    "maglims = [27.66, 27.25, 26.6, 26.24, 25.35]\n",
    "maglim_dict={}\n",
    "for band,limx in zip(bands, maglims):\n",
    "    maglim_dict[f\"HSC{band}_cmodel_dered\"] = limx"
   ]
  },
  {
   "cell_type": "markdown",
   "id": "3b1fb970-14d6-4e0c-b330-e341b6cb6be5",
   "metadata": {},
   "source": [
    "### Setting common parameters to all the stages in the estimation\n"
   ]
  },
  {
   "cell_type": "code",
   "execution_count": null,
   "id": "682d2489-ba1b-4344-af95-728667e53528",
   "metadata": {},
   "outputs": [],
   "source": [
    "common_params.set_param_defaults(\n",
    "    bands=[f'HSC{band}_cmodel_dered' for band in bands], # bands\n",
    "    bandNames=\n",
    "    err_bands=[f'{band}_cmodel_magerr' for band in bands], # uncertainty bands\n",
    "    nondetect_val=np.nan,\n",
    "    ref_band='HSCi_cmodel_dered',\n",
    "    redshift_col='specz_redshift',\n",
    "    mag_limits=maglim_dict,\n",
    "    zmax=6.0, # set zmax to 6 for HSC\n",
    ")"
   ]
  },
  {
   "cell_type": "code",
   "execution_count": null,
   "id": "f4ec67e4-21cd-4470-b007-ebe56bd0cfc0",
   "metadata": {},
   "outputs": [],
   "source": []
  },
  {
   "cell_type": "code",
   "execution_count": null,
   "id": "2c60136d-0f07-4d3b-9066-14dd1e58eaa7",
   "metadata": {},
   "outputs": [],
   "source": []
  },
  {
   "cell_type": "markdown",
   "id": "25accc6c-b50b-4acc-bfeb-1f72034e6d7e",
   "metadata": {},
   "source": [
    "### Set up the pipeline"
   ]
  },
  {
   "cell_type": "code",
   "execution_count": null,
   "id": "ba92106a-6ac6-42e3-822f-d5dcf30a5793",
   "metadata": {},
   "outputs": [],
   "source": [
    "pipe = EstimatePipeline()"
   ]
  },
  {
   "cell_type": "code",
   "execution_count": null,
   "id": "6621e102-b0dd-4fb8-a524-6b4545189cf9",
   "metadata": {},
   "outputs": [],
   "source": [
    "namer = NameFactory()"
   ]
  },
  {
   "cell_type": "markdown",
   "id": "511c9722-9c09-44a1-8b7e-6d058a199297",
   "metadata": {},
   "source": [
    "### Define parameters for each stage"
   ]
  },
  {
   "cell_type": "code",
   "execution_count": null,
   "id": "2a64eb7b-d67e-422d-a60a-ed0085bbf677",
   "metadata": {},
   "outputs": [],
   "source": [
    "pipe.flow_engine_train.config.update(n_samples=5)\n",
    "pipe.obs_condition.config.update(spec_groupname = \"\", redshift_colname = 'specz_redshift')\n",
    "pipe.estimate_bpz.config.update(spec_groupname = \"\", redshift_colname = 'specz_redshift')"
   ]
  },
  {
   "cell_type": "code",
   "execution_count": null,
   "id": "ff0d1439-169b-45dc-b224-27cc3189aab9",
   "metadata": {},
   "outputs": [],
   "source": [
    "pipe_info = pipe.initialize(input_dict, dict(output_dir='.', log_dir='.', resume=True), None)\n"
   ]
  },
  {
   "cell_type": "markdown",
   "id": "e0b21b58-94ca-425a-bf23-aedcc34cf233",
   "metadata": {},
   "source": [
    "### Save the pipeline into a yml file"
   ]
  },
  {
   "cell_type": "code",
   "execution_count": null,
   "id": "bcd3534c-ce25-48d9-a629-49ce17cdd279",
   "metadata": {},
   "outputs": [],
   "source": [
    "pipe.save('tmp_survey_nonuniformity.yml')"
   ]
  },
  {
   "cell_type": "markdown",
   "id": "333d990d-8050-4815-8329-74af6e94ada6",
   "metadata": {},
   "source": [
    "### run pipeline"
   ]
  },
  {
   "cell_type": "code",
   "execution_count": null,
   "id": "7943d633-f27c-469b-944b-2ea79ee011ec",
   "metadata": {},
   "outputs": [],
   "source": [
    "import ceci\n",
    "pr = ceci.Pipeline.read('tmp_survey_nonuniformity.yml')"
   ]
  },
  {
   "cell_type": "code",
   "execution_count": null,
   "id": "a206fbe7-757e-4df6-803f-3abf170874de",
   "metadata": {},
   "outputs": [],
   "source": [
    "pr.run()"
   ]
  },
  {
   "cell_type": "markdown",
   "id": "5a507f0b-c130-4c74-b964-262f97c49629",
   "metadata": {},
   "source": [
    "# Redshift distribution in each tomographic bins at different depth:"
   ]
  },
  {
   "cell_type": "code",
   "execution_count": null,
   "id": "1761c908-9b6f-43f2-88c2-1614b48170eb",
   "metadata": {},
   "outputs": [],
   "source": []
  },
  {
   "cell_type": "code",
   "execution_count": null,
   "id": "8d104602-2715-4dc1-84c7-bf7c7123567e",
   "metadata": {},
   "outputs": [],
   "source": []
  },
  {
   "cell_type": "code",
   "execution_count": null,
   "id": "828c9902-368c-4dcf-8b5d-3597c5004966",
   "metadata": {},
   "outputs": [],
   "source": []
  },
  {
   "cell_type": "code",
   "execution_count": 1,
   "id": "05e930d8-0855-4231-b2e1-1a67232a77a0",
   "metadata": {
    "tags": []
   },
   "outputs": [
    {
     "name": "stdout",
     "output_type": "stream",
     "text": [
      "Imported rail.hub\n",
      "Imported rail.astro_tools\n",
      "Imported rail.core\n",
      "Imported rail.stages\n",
      "Imported rail.bpz\n",
      "Imported rail.cmnn\n",
      "Imported rail.delight\n",
      "Failed to import rail.dsps because: You need to have the SPS_HOME environment variable\n",
      "Imported rail.flexzboost\n",
      "Failed to import rail.gpz because: No module named 'rail.estimation.algos.gpz_v1'\n",
      "Imported rail.pipelines\n",
      "Failed to import rail.pzflow because: No module named 'rail.estimation.algos.pzflow'\n",
      "Failed to import rail.sklearn because: cannot import name 'TanbleHandle' from 'rail.core.data' (/global/u2/q/qhang/desc/rail_base/src/rail/core/data.py)\n",
      "Imported rail.som\n",
      "Attached 12 base classes and 47 fully formed stages to rail.stages\n"
     ]
    }
   ],
   "source": [
    "# Various rail modules\n",
    "import rail.stages\n",
    "rail.stages.import_and_attach_all()\n",
    "from rail.stages import *"
   ]
  },
  {
   "cell_type": "code",
   "execution_count": 4,
   "id": "8bf264eb-0f54-492e-a856-bd99498fcb9e",
   "metadata": {
    "tags": []
   },
   "outputs": [
    {
     "data": {
      "text/plain": [
       "'rail.tools.utilPhotometry'"
      ]
     },
     "execution_count": 4,
     "metadata": {},
     "output_type": "execute_result"
    }
   ],
   "source": [
    "### find where is Dereddener!\n",
    "Dereddener.__module__"
   ]
  },
  {
   "cell_type": "code",
   "execution_count": null,
   "id": "fd59a161-64df-4be4-9bee-4b3bd08558ae",
   "metadata": {},
   "outputs": [],
   "source": []
  }
 ],
 "metadata": {
  "kernelspec": {
   "display_name": "rail_dev",
   "language": "python",
   "name": "rail_dev"
  },
  "language_info": {
   "codemirror_mode": {
    "name": "ipython",
    "version": 3
   },
   "file_extension": ".py",
   "mimetype": "text/x-python",
   "name": "python",
   "nbconvert_exporter": "python",
   "pygments_lexer": "ipython3",
   "version": "3.11.4"
  }
 },
 "nbformat": 4,
 "nbformat_minor": 5
}
