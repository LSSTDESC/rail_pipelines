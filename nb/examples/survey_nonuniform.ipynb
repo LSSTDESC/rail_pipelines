{
 "cells": [
  {
   "cell_type": "code",
   "execution_count": null,
   "id": "62c833e4-fde5-4ba0-8406-966805b80ed2",
   "metadata": {},
   "outputs": [],
   "source": [
    "# usual imports\n",
    "import os\n",
    "import numpy as np\n",
    "import matplotlib.pyplot as plt\n",
    "from rail.core.utils import RAILDIR\n",
    "#from rail.estimation.algos.bpz_version.utils import RAIL_BPZ_DIR\n",
    "from rail.pipelines.examples.survey_nonuniformity.survey_nonuniformity import SurveyNonuniformDegraderPipeline\n",
    "from rail.core import common_params\n",
    "from rail.pipelines.utils.name_factory import NameFactory, DataType, CatalogType, ModelType, PdfType\n",
    "import qp\n",
    "import ceci\n"
   ]
  },
  {
   "cell_type": "code",
   "execution_count": null,
   "id": "db2a216d-7c15-4d45-b9d2-ca78fbdc8b27",
   "metadata": {},
   "outputs": [],
   "source": [
    "#change to your rail location\n",
    "RAIL_BPZ_DIR = \"/path/to/your/rail/src/\""
   ]
  },
  {
   "cell_type": "markdown",
   "id": "2d022101-7f7b-4fb1-abaa-f1a4243027f9",
   "metadata": {},
   "source": [
    "### Define the bands, magnitude limits, and put them into a dictionary"
   ]
  },
  {
   "cell_type": "code",
   "execution_count": 5,
   "id": "92e175b0-bcf4-4777-a165-a95afe061627",
   "metadata": {
    "tags": []
   },
   "outputs": [],
   "source": [
    "bands = 'grizy'\n",
    "maglims = [27.79, 29.04, 29.06, 28.62, 27.98, 27.05]\n",
    "maglim_dict={}\n",
    "for band,limx in zip(bands, maglims):\n",
    "    maglim_dict[f\"mag_{band}_lsst\"] = limx"
   ]
  },
  {
   "cell_type": "markdown",
   "id": "3b1fb970-14d6-4e0c-b330-e341b6cb6be5",
   "metadata": {},
   "source": [
    "### Setting common parameters to all the stages in the estimation\n"
   ]
  },
  {
   "cell_type": "code",
   "execution_count": null,
   "id": "682d2489-ba1b-4344-af95-728667e53528",
   "metadata": {},
   "outputs": [],
   "source": [
    "common_params.set_param_defaults(\n",
    "    bands=[f'mag_{band}_lsst' for band in bands], # bands\n",
    "    err_bands=[f'mag_err_{band}_lsst' for band in bands], # uncertainty bands\n",
    "    nondetect_val=np.nan,\n",
    "    #ref_band='HSCi_cmodel_dered',\n",
    "    redshift_col='redshift',\n",
    "    mag_limits=maglim_dict,\n",
    "    prior_band=\"i\",\n",
    "    #zmax=6.0, # set zmax to 6 for HSC\n",
    ")"
   ]
  },
  {
   "cell_type": "markdown",
   "id": "25accc6c-b50b-4acc-bfeb-1f72034e6d7e",
   "metadata": {},
   "source": [
    "### Set up the pipeline"
   ]
  },
  {
   "cell_type": "code",
   "execution_count": null,
   "id": "ba92106a-6ac6-42e3-822f-d5dcf30a5793",
   "metadata": {},
   "outputs": [],
   "source": [
    "pipe = SurveyNonuniformDegraderPipeline()"
   ]
  },
  {
   "cell_type": "code",
   "execution_count": null,
   "id": "6621e102-b0dd-4fb8-a524-6b4545189cf9",
   "metadata": {},
   "outputs": [],
   "source": [
    "namer = NameFactory()"
   ]
  },
  {
   "cell_type": "markdown",
   "id": "511c9722-9c09-44a1-8b7e-6d058a199297",
   "metadata": {},
   "source": [
    "### Define parameters for each stage"
   ]
  },
  {
   "cell_type": "code",
   "execution_count": null,
   "id": "59a4a0bf-f5a2-4e15-a38a-7536b2d89700",
   "metadata": {},
   "outputs": [],
   "source": [
    "# dictionary used by ObsCondition\n",
    "# first define a set of input map directories:\n",
    "\n",
    "base_path = \"/pscratch/sd/q/qhang/rubin_baseline_v2/MAF-1year/\"\n",
    "\n",
    "# nside of these maps:\n",
    "nside=128\n",
    "\n",
    "# seeing maps:\n",
    "seeing_u = base_path + \"baseline_v2_0_10yrs_Median_seeingFwhmEff_u_and_nightlt365_HEAL.fits\"\n",
    "seeing_g = base_path + \"baseline_v2_0_10yrs_Median_seeingFwhmEff_g_and_nightlt365_HEAL.fits\"\n",
    "seeing_r = base_path + \"baseline_v2_0_10yrs_Median_seeingFwhmEff_r_and_nightlt365_HEAL.fits\"\n",
    "seeing_i = base_path + \"baseline_v2_0_10yrs_Median_seeingFwhmEff_i_and_nightlt365_HEAL.fits\"\n",
    "seeing_z = base_path + \"baseline_v2_0_10yrs_Median_seeingFwhmEff_z_and_nightlt365_HEAL.fits\"\n",
    "seeing_y = base_path + \"baseline_v2_0_10yrs_Median_seeingFwhmEff_y_and_nightlt365_HEAL.fits\"\n",
    "\n",
    "# coadd depth maps:\n",
    "coaddm5_u = base_path + \"baseline_v2_0_10yrs_CoaddM5_u_and_nightlt365_HEAL.fits\"\n",
    "coaddm5_g = base_path + \"baseline_v2_0_10yrs_CoaddM5_g_and_nightlt365_HEAL.fits\"\n",
    "coaddm5_r = base_path + \"baseline_v2_0_10yrs_CoaddM5_r_and_nightlt365_HEAL.fits\"\n",
    "coaddm5_i = base_path + \"baseline_v2_0_10yrs_CoaddM5_i_and_nightlt365_HEAL.fits\"\n",
    "coaddm5_z = base_path + \"baseline_v2_0_10yrs_CoaddM5_z_and_nightlt365_HEAL.fits\"\n",
    "coaddm5_y = base_path + \"baseline_v2_0_10yrs_CoaddM5_y_and_nightlt365_HEAL.fits\"\n",
    "\n",
    "# here we will set the observing year and number of visits per year to 1, because we are supplying coadd depth\n",
    "\n",
    "# mask:\n",
    "maskdir = base_path + \"../wfd_footprint_nvisitcut_500_nside_128.fits\"\n",
    "\n",
    "# weight: for now we supply uniform weight\n",
    "\n",
    "# choose the systematic map to examine, here we choose the combined depth:\n",
    "sys_to_check = base_path + \"baseline_v2_0_10yrs_CoaddM5_i_and_nightlt365_HEAL.fits\"\n",
    "sys = \"CoaddM5\"\n",
    "\n",
    "# directory to save all the data:\n",
    "savedir = \"/pscratch/sd/q/qhang/PZflow-samples/DC2-test/\"\n",
    "\n",
    "map_dict={\n",
    "        \"theta\": {\n",
    "            \"u\": seeing_u,\n",
    "            \"g\": seeing_g,\n",
    "            \"r\": seeing_r,\n",
    "            \"i\": seeing_i,\n",
    "            \"z\": seeing_z,\n",
    "            \"y\": seeing_y,\n",
    "        },\n",
    "        \"m5\": {\n",
    "            \"u\": coaddm5_u,\n",
    "            \"g\": coaddm5_g,\n",
    "            \"r\": coaddm5_r,\n",
    "            \"i\": coaddm5_i,\n",
    "            \"z\": coaddm5_z,\n",
    "            \"y\": coaddm5_y,\n",
    "        },\n",
    "        \"nYrObs\": 1.,\n",
    "        \"nVisYr\": {\n",
    "            \"u\": 1.,\n",
    "            \"g\": 1.,\n",
    "            \"r\": 1.,\n",
    "            \"i\": 1.,\n",
    "            \"z\": 1.,\n",
    "            \"y\": 1., \n",
    "        },\n",
    "        \"sigLim\": 10,\n",
    "        \"ndFlag\": np.nan,\n",
    "        \"extendedType\": \"auto\",\n",
    "        \"majorCol\": \"major\",\n",
    "        \"minorCol\": \"minor\",\n",
    "        \"decorrelate\": True,\n",
    "        \"highSNR\": False,\n",
    "        \"renameDict\": band_dict,  \n",
    "    }"
   ]
  },
  {
   "cell_type": "code",
   "execution_count": null,
   "id": "2a64eb7b-d67e-422d-a60a-ed0085bbf677",
   "metadata": {},
   "outputs": [],
   "source": [
    "pipe.flow_engine_train.config.update(n_samples=20)\n",
    "pipe.obs_condition.config.update(map_dict=map_dict, nside=nside, mask = maskdir, weight = \"\",)\n",
    "#pipe.estimate_bpz.config.update(spec_groupname = \"\", redshift_colname = 'specz_redshift')"
   ]
  },
  {
   "cell_type": "code",
   "execution_count": null,
   "id": "ff0d1439-169b-45dc-b224-27cc3189aab9",
   "metadata": {},
   "outputs": [],
   "source": [
    "pipe_info = pipe.initialize(input_dict, dict(output_dir='.', log_dir='.', resume=True), None)"
   ]
  },
  {
   "cell_type": "markdown",
   "id": "e0b21b58-94ca-425a-bf23-aedcc34cf233",
   "metadata": {},
   "source": [
    "### Save the pipeline into a yml file"
   ]
  },
  {
   "cell_type": "code",
   "execution_count": null,
   "id": "bcd3534c-ce25-48d9-a629-49ce17cdd279",
   "metadata": {},
   "outputs": [],
   "source": [
    "pipe.save('tmp_survey_nonuniformity.yml')"
   ]
  },
  {
   "cell_type": "markdown",
   "id": "333d990d-8050-4815-8329-74af6e94ada6",
   "metadata": {},
   "source": [
    "### run pipeline"
   ]
  },
  {
   "cell_type": "code",
   "execution_count": null,
   "id": "7943d633-f27c-469b-944b-2ea79ee011ec",
   "metadata": {},
   "outputs": [],
   "source": [
    "import ceci\n",
    "pr = ceci.Pipeline.read('tmp_survey_nonuniformity.yml')"
   ]
  },
  {
   "cell_type": "code",
   "execution_count": null,
   "id": "a206fbe7-757e-4df6-803f-3abf170874de",
   "metadata": {},
   "outputs": [],
   "source": [
    "pr.run()"
   ]
  },
  {
   "cell_type": "markdown",
   "id": "5a507f0b-c130-4c74-b964-262f97c49629",
   "metadata": {},
   "source": [
    "# Redshift distribution in each tomographic bins at different depth:"
   ]
  },
  {
   "cell_type": "code",
   "execution_count": null,
   "id": "1761c908-9b6f-43f2-88c2-1614b48170eb",
   "metadata": {},
   "outputs": [],
   "source": []
  },
  {
   "cell_type": "code",
   "execution_count": null,
   "id": "8d104602-2715-4dc1-84c7-bf7c7123567e",
   "metadata": {},
   "outputs": [],
   "source": []
  },
  {
   "cell_type": "code",
   "execution_count": null,
   "id": "828c9902-368c-4dcf-8b5d-3597c5004966",
   "metadata": {},
   "outputs": [],
   "source": []
  },
  {
   "cell_type": "code",
   "execution_count": null,
   "id": "05e930d8-0855-4231-b2e1-1a67232a77a0",
   "metadata": {
    "tags": []
   },
   "outputs": [],
   "source": [
    "# Various rail modules\n",
    "import rail.stages\n",
    "rail.stages.import_and_attach_all()\n",
    "from rail.stages import *"
   ]
  },
  {
   "cell_type": "code",
   "execution_count": null,
   "id": "8bf264eb-0f54-492e-a856-bd99498fcb9e",
   "metadata": {
    "tags": []
   },
   "outputs": [],
   "source": [
    "### find where is Dereddener!\n",
    "Dereddener.__module__"
   ]
  },
  {
   "cell_type": "code",
   "execution_count": null,
   "id": "fd59a161-64df-4be4-9bee-4b3bd08558ae",
   "metadata": {},
   "outputs": [],
   "source": []
  }
 ],
 "metadata": {
  "kernelspec": {
   "display_name": "rail_dev",
   "language": "python",
   "name": "rail_dev"
  },
  "language_info": {
   "codemirror_mode": {
    "name": "ipython",
    "version": 3
   },
   "file_extension": ".py",
   "mimetype": "text/x-python",
   "name": "python",
   "nbconvert_exporter": "python",
   "pygments_lexer": "ipython3",
   "version": "3.11.4"
  }
 },
 "nbformat": 4,
 "nbformat_minor": 5
}
