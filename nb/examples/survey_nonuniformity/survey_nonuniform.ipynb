{
 "cells": [
  {
   "cell_type": "code",
   "execution_count": 1,
   "id": "62c833e4-fde5-4ba0-8406-966805b80ed2",
   "metadata": {},
   "outputs": [
    {
     "name": "stdout",
     "output_type": "stream",
     "text": [
      "Imported rail.hub\n",
      "Imported rail.astro_tools\n",
      "Imported rail.core\n",
      "Imported rail.stages\n",
      "Imported rail.bpz\n",
      "Imported rail.cmnn\n",
      "Imported rail.delight\n",
      "Failed to import rail.dsps because: You need to have the SPS_HOME environment variable\n",
      "Imported rail.flexzboost\n",
      "Imported rail.gpz\n",
      "Imported rail.pipelines\n",
      "Failed to import rail.pzflow because: No module named 'rail.estimation.algos.pzflow'\n",
      "Imported rail.sklearn\n",
      "Imported rail.som\n",
      "Attached 12 base classes and 57 fully formed stages to rail.stages\n"
     ]
    }
   ],
   "source": [
    "# usual imports\n",
    "import os\n",
    "import numpy as np\n",
    "import matplotlib.pyplot as plt\n",
    "from rail.core.utils import find_rail_file\n",
    "from rail.pipelines.examples.survey_nonuniformity.survey_nonuniformity import SurveyNonuniformDegraderPipeline\n",
    "from rail.core import common_params\n",
    "from rail.pipelines.utils.name_factory import NameFactory, DataType, CatalogType, ModelType, PdfType\n",
    "import qp\n",
    "import ceci"
   ]
  },
  {
   "cell_type": "code",
   "execution_count": 2,
   "id": "1d01d581-16b2-400e-9a68-8bb57a141a6b",
   "metadata": {
    "tags": []
   },
   "outputs": [],
   "source": [
    "# other dependencies:\n",
    "import healpy as hp\n",
    "import tables_io"
   ]
  },
  {
   "cell_type": "markdown",
   "id": "2d022101-7f7b-4fb1-abaa-f1a4243027f9",
   "metadata": {},
   "source": [
    "### Define the bands, magnitude limits, and put them into a dictionary"
   ]
  },
  {
   "cell_type": "code",
   "execution_count": 3,
   "id": "92e175b0-bcf4-4777-a165-a95afe061627",
   "metadata": {
    "tags": []
   },
   "outputs": [],
   "source": [
    "bands = 'ugrizy'\n",
    "maglims = [27.05, 27.79, 29.04, 29.06, 28.62, 27.98]\n",
    "maglim_dict={}\n",
    "for band,limx in zip(bands, maglims):\n",
    "    maglim_dict[f\"mag_{band}_lsst\"] = limx"
   ]
  },
  {
   "cell_type": "markdown",
   "id": "3b1fb970-14d6-4e0c-b330-e341b6cb6be5",
   "metadata": {},
   "source": [
    "### Setting common parameters to all the stages in the estimation\n"
   ]
  },
  {
   "cell_type": "code",
   "execution_count": 4,
   "id": "682d2489-ba1b-4344-af95-728667e53528",
   "metadata": {},
   "outputs": [],
   "source": [
    "common_params.set_param_defaults(\n",
    "    bands=[f'mag_{band}_lsst' for band in bands], # bands\n",
    "    err_bands=[f'mag_err_{band}_lsst' for band in bands], # uncertainty bands\n",
    "    nondetect_val=np.nan,\n",
    "    #ref_band='HSCi_cmodel_dered',\n",
    "    redshift_col='redshift',\n",
    "    mag_limits=maglim_dict,\n",
    "    #zmax=6.0, # set zmax to 6 for HSC\n",
    ")"
   ]
  },
  {
   "cell_type": "markdown",
   "id": "25accc6c-b50b-4acc-bfeb-1f72034e6d7e",
   "metadata": {},
   "source": [
    "### Set up the pipeline"
   ]
  },
  {
   "cell_type": "code",
   "execution_count": 5,
   "id": "ba92106a-6ac6-42e3-822f-d5dcf30a5793",
   "metadata": {
    "tags": []
   },
   "outputs": [
    {
     "name": "stdout",
     "output_type": "stream",
     "text": [
      "Inserting handle into data store.  model: /global/u2/q/qhang/desc/rail_base/src/rail/examples_data/goldenspike_data/data/pretrained_flow.pkl, flow_engine_train\n",
      "Inserting handle into data store.  output_flow_engine_train: catalog/created/inprogress_output_flow_engine_train.pq, flow_engine_train\n",
      "Inserting handle into data store.  output_obs_condition: catalog/degraded/inprogress_output_obscondition.pq, obs_condition\n",
      "Inserting handle into data store.  output_col_remapper: catalog/degraded/inprogress_output_col_remapper.pq, col_remapper\n",
      "Inserting handle into data store.  output_deredden: catalog/degraded/inprogress_output_deredden.pq, deredden\n",
      "Inserting handle into data store.  output_table_conv: catalog/degraded/inprogress_output_table_conv.hdf5, table_conv\n",
      "Inserting handle into data store.  model_inform_bpz: model/estimator/inprogress_trained_BPZ.pkl, inform_bpz\n",
      "Inserting handle into data store.  output_estimate_bpz: pdf/pz/inprogress_output_estimate_bpz.hdf5, estimate_bpz\n"
     ]
    }
   ],
   "source": [
    "pipe = SurveyNonuniformDegraderPipeline()"
   ]
  },
  {
   "cell_type": "code",
   "execution_count": 6,
   "id": "6621e102-b0dd-4fb8-a524-6b4545189cf9",
   "metadata": {
    "tags": []
   },
   "outputs": [],
   "source": [
    "namer = NameFactory()"
   ]
  },
  {
   "cell_type": "markdown",
   "id": "bc6262c9-3a41-4ac9-9b15-5f68ed5dc0f2",
   "metadata": {},
   "source": [
    "### Preparing input files"
   ]
  },
  {
   "cell_type": "code",
   "execution_count": 9,
   "id": "fb991e78-c465-48ec-89e1-93e5192c071b",
   "metadata": {
    "tags": []
   },
   "outputs": [
    {
     "name": "stdout",
     "output_type": "stream",
     "text": [
      "Downloading SFD data file to /global/u2/q/qhang/desc/rail_pipelines/nb/examples/survey_nonuniformity/sfd/SFD_dust_4096_ngp.fits\n",
      "Downloading data to '/global/u2/q/qhang/desc/rail_pipelines/nb/examples/survey_nonuniformity/sfd/SFD_dust_4096_ngp.fits' ...\n",
      "Downloading https://dataverse.harvard.edu/api/access/datafile/2902687 ...\n"
     ]
    },
    {
     "name": "stderr",
     "output_type": "stream",
     "text": [
      " 62.3 MiB of 64.0 MiB |  34.8 MiB/s |################## |  97% | ETA:   0:00:00"
     ]
    },
    {
     "name": "stdout",
     "output_type": "stream",
     "text": [
      "Downloading SFD data file to /global/u2/q/qhang/desc/rail_pipelines/nb/examples/survey_nonuniformity/sfd/SFD_dust_4096_sgp.fits\n",
      "Downloading data to '/global/u2/q/qhang/desc/rail_pipelines/nb/examples/survey_nonuniformity/sfd/SFD_dust_4096_sgp.fits' ...\n",
      "Downloading https://dataverse.harvard.edu/api/access/datafile/2902695 ...\n"
     ]
    },
    {
     "name": "stderr",
     "output_type": "stream",
     "text": [
      " 64.0 MiB of 64.0 MiB |  31.6 MiB/s |###################| 100% | ETA:  00:00:00"
     ]
    }
   ],
   "source": [
    "# fetch dust map and save:\n",
    "import dustmaps.sfd\n",
    "dustmaps.sfd.fetch()"
   ]
  },
  {
   "cell_type": "markdown",
   "id": "4ce7267f-dc8c-4996-b2b4-394cb21dc55a",
   "metadata": {},
   "source": [
    "Here, we will create a set of dummy coadd depth maps covering the DC2 area.\n",
    "We will set the five-sigma depth roughly corresponds to mode of Y1. Pixels with $RA<62$ has a depth 1 magnitude shallower than $RA\\geq62$."
   ]
  },
  {
   "cell_type": "code",
   "execution_count": 39,
   "id": "650cdbef-83c7-4a77-9df5-0eae563ccf51",
   "metadata": {
    "tags": []
   },
   "outputs": [
    {
     "name": "stderr",
     "output_type": "stream",
     "text": [
      "setting the output map dtype to [dtype('>f8')]\n",
      "setting the output map dtype to [dtype('>f8')]\n",
      "setting the output map dtype to [dtype('>f8')]\n",
      "setting the output map dtype to [dtype('>f8')]\n",
      "setting the output map dtype to [dtype('>f8')]\n",
      "setting the output map dtype to [dtype('>f8')]\n"
     ]
    }
   ],
   "source": [
    "# load the DC2 mask:\n",
    "mask = hp.read_map(find_rail_file(\"examples_data/creation_data/data/survey_conditions/DC2-mask-neg-nside-128.fits\"))\n",
    "mask[mask<0]=0\n",
    "\n",
    "m5={\n",
    "    \"u\":[23.80, 24.80],\n",
    "    \"g\":[25.20, 26.20],\n",
    "    \"r\":[25.25, 26.25],\n",
    "    \"i\":[24.50, 25.50],\n",
    "    \"z\":[24.20, 25.20],\n",
    "    \"y\":[23.25, 24.25],\n",
    "   }\n",
    "\n",
    "nside=hp.get_nside(mask)\n",
    "for mm in m5.keys():\n",
    "    ipix=np.arange(len(mask))[mask.astype(bool)]\n",
    "    ra, dec=hp.pix2ang(nside,ipix,lonlat=True)\n",
    "    out=np.copy(mask)\n",
    "    out[ipix[ra<62]]=m5[mm][0]\n",
    "    out[ipix[ra>=62]]=m5[mm][1]\n",
    "    # save them in the current directory:\n",
    "    hp.write_map(f\"CoaddM5_{mm}_dummpy.fits\", out, overwrite=True)"
   ]
  },
  {
   "cell_type": "markdown",
   "id": "248e67cf-2583-4305-bbc1-62e3072453b0",
   "metadata": {},
   "source": [
    "### Define parameters for each stage"
   ]
  },
  {
   "cell_type": "code",
   "execution_count": 7,
   "id": "526a1831-6094-4ff2-826b-0c3df8662b29",
   "metadata": {},
   "outputs": [],
   "source": [
    "# dictionary used by ObsCondition\n",
    "# first define a set of input map directories:\n",
    "# nside of maps\n",
    "nside=128\n",
    "\n",
    "# coadd depth maps:\n",
    "coaddm5_u = \"./CoaddM5_u_dummpy.fits\"\n",
    "coaddm5_g = \"./CoaddM5_g_dummpy.fits\"\n",
    "coaddm5_r = \"./CoaddM5_r_dummpy.fits\"\n",
    "coaddm5_i = \"./CoaddM5_i_dummpy.fits\"\n",
    "coaddm5_z = \"./CoaddM5_z_dummpy.fits\"\n",
    "coaddm5_y = \"./CoaddM5_y_dummpy.fits\"\n",
    "\n",
    "# here we will set the observing year and number of visits per year to 1, because we are supplying coadd depth\n",
    "\n",
    "# mask:\n",
    "maskdir = find_rail_file(\"examples_data/creation_data/data/survey_conditions/DC2-mask-neg-nside-128.fits\")\n",
    "\n",
    "# weight: for now we supply uniform weight\n",
    "\n",
    "band_dict={\n",
    "    \"u\": \"mag_u_lsst\",\n",
    "    \"g\": \"mag_g_lsst\",\n",
    "    \"r\": \"mag_r_lsst\",\n",
    "    \"i\": \"mag_i_lsst\",\n",
    "    \"z\": \"mag_z_lsst\",\n",
    "    \"y\": \"mag_y_lsst\",\n",
    "}\n",
    "\n",
    "map_dict={\n",
    "        \"m5\": {\n",
    "            \"u\": coaddm5_u,\n",
    "            \"g\": coaddm5_g,\n",
    "            \"r\": coaddm5_r,\n",
    "            \"i\": coaddm5_i,\n",
    "            \"z\": coaddm5_z,\n",
    "            \"y\": coaddm5_y,\n",
    "        },\n",
    "        \"nYrObs\": 1.,\n",
    "        \"nVisYr\": {\n",
    "            \"u\": 1.,\n",
    "            \"g\": 1.,\n",
    "            \"r\": 1.,\n",
    "            \"i\": 1.,\n",
    "            \"z\": 1.,\n",
    "            \"y\": 1., \n",
    "        },\n",
    "        \"sigLim\": 3,\n",
    "        \"ndFlag\": np.nan,\n",
    "        \"extendedType\": \"point\", # not doing extended error here because no size info.\n",
    "                                 # if use extended errors, you might also want to supply\n",
    "                                 # PSF/seeing maps\n",
    "        \"majorCol\": \"major\",\n",
    "        \"minorCol\": \"minor\",\n",
    "        \"decorrelate\": True,\n",
    "        \"highSNR\": False,\n",
    "        \"renameDict\": band_dict,  \n",
    "    }"
   ]
  },
  {
   "cell_type": "code",
   "execution_count": 12,
   "id": "2a64eb7b-d67e-422d-a60a-ed0085bbf677",
   "metadata": {},
   "outputs": [],
   "source": [
    "pipe.flow_engine_train.config.update(n_samples=200)\n",
    "pipe.obs_condition.config.update(map_dict=map_dict, nside=nside, mask = maskdir, weight = \"\",)\n",
    "pipe.deredden.config.update(dustmap_dir=\".\", copy_all_cols=True)# where to save the dust map downloaded\n",
    "pipe.estimate_bpz.config.update(spec_groupname = \"\", redshift_colname = 'redshift', prior_band='i')\n",
    "pipe.tomopraphy.config.update(nbins=3,)# uniform binning between [0,3], 3 bins"
   ]
  },
  {
   "cell_type": "code",
   "execution_count": 13,
   "id": "ff0d1439-169b-45dc-b224-27cc3189aab9",
   "metadata": {},
   "outputs": [],
   "source": [
    "from rail.core.utils import RAILDIR\n",
    "flow_file = os.path.join(RAILDIR, 'rail/examples_data/goldenspike_data/data/pretrained_flow.pkl')\n",
    "pipe_info = pipe.initialize(dict(model=flow_file), dict(output_dir='.', log_dir='.', resume=True), None)"
   ]
  },
  {
   "cell_type": "code",
   "execution_count": 14,
   "id": "bc2f4d20-3dc5-40be-bd99-3c5d36e7d700",
   "metadata": {
    "tags": []
   },
   "outputs": [
    {
     "data": {
      "text/plain": [
       "(({'flow_engine_train': <Job flow_engine_train>,\n",
       "   'obs_condition': <Job obs_condition>,\n",
       "   'col_remapper': <Job col_remapper>,\n",
       "   'deredden': <Job deredden>,\n",
       "   'table_conv': <Job table_conv>,\n",
       "   'inform_bpz': <Job inform_bpz>,\n",
       "   'estimate_bpz': <Job estimate_bpz>,\n",
       "   'tomopraphy': <Job tomopraphy>},\n",
       "  [<rail.creation.engines.flowEngine.FlowCreator at 0x7f4f9afdc190>,\n",
       "   Loaded observing conditions from configuration file: \n",
       "   nside = 128, \n",
       "   mask file:  /global/u2/q/qhang/desc/rail_astro_tools/src/rail/examples_data/creation_data/data/survey_conditions/DC2-mask-neg-nside-128.fits, \n",
       "   weight file:  , \n",
       "   tot_nVis_flag = True, \n",
       "   random_seed = 42, \n",
       "   map_dict contains the following items: \n",
       "   {'m5': {'u': './CoaddM5_u_dummpy.fits', 'g': './CoaddM5_g_dummpy.fits', 'r': './CoaddM5_r_dummpy.fits', 'i': './CoaddM5_i_dummpy.fits', 'z': './CoaddM5_z_dummpy.fits', 'y': './CoaddM5_y_dummpy.fits'}, 'nYrObs': 1.0, 'nVisYr': {'u': 1.0, 'g': 1.0, 'r': 1.0, 'i': 1.0, 'z': 1.0, 'y': 1.0}, 'sigLim': 3, 'ndFlag': nan, 'extendedType': 'point', 'majorCol': 'major', 'minorCol': 'minor', 'decorrelate': True, 'highSNR': False, 'renameDict': {'u': 'mag_u_lsst', 'g': 'mag_g_lsst', 'r': 'mag_r_lsst', 'i': 'mag_i_lsst', 'z': 'mag_z_lsst', 'y': 'mag_y_lsst'}},\n",
       "   Stage that applies remaps the following column names in a pandas DataFrame:\n",
       "   f{str(self.config.columns)},\n",
       "   <rail.tools.util_photometry.Dereddener at 0x7f4f9171f6d0>,\n",
       "   <rail.core.util_stages.TableConverter at 0x7f4f9abc72d0>,\n",
       "   <rail.estimation.algos.bpz_lite.BPZliteInformer at 0x7f4f917d4950>,\n",
       "   <rail.estimation.algos.bpz_lite.BPZliteEstimator at 0x7f4fc59c7710>,\n",
       "   <rail.estimation.algos.uniform_binning.UniformBinningClassifier at 0x7f4f9ab57e90>]),\n",
       " {'output_dir': '.', 'log_dir': '.', 'resume': True})"
      ]
     },
     "execution_count": 14,
     "metadata": {},
     "output_type": "execute_result"
    }
   ],
   "source": [
    "pipe_info"
   ]
  },
  {
   "cell_type": "markdown",
   "id": "e0b21b58-94ca-425a-bf23-aedcc34cf233",
   "metadata": {},
   "source": [
    "### Save the pipeline into a yml file"
   ]
  },
  {
   "cell_type": "code",
   "execution_count": 15,
   "id": "bcd3534c-ce25-48d9-a629-49ce17cdd279",
   "metadata": {},
   "outputs": [],
   "source": [
    "pipe.save('tmp_survey_nonuniformity.yml')"
   ]
  },
  {
   "cell_type": "markdown",
   "id": "333d990d-8050-4815-8329-74af6e94ada6",
   "metadata": {},
   "source": [
    "### run pipeline"
   ]
  },
  {
   "cell_type": "code",
   "execution_count": 1,
   "id": "7943d633-f27c-469b-944b-2ea79ee011ec",
   "metadata": {},
   "outputs": [
    {
     "name": "stdout",
     "output_type": "stream",
     "text": [
      "Inserting handle into data store.  model: /global/u2/q/qhang/desc/rail_base/src/rail/examples_data/goldenspike_data/data/pretrained_flow.pkl, flow_engine_train\n"
     ]
    }
   ],
   "source": [
    "import ceci\n",
    "pr = ceci.Pipeline.read('tmp_survey_nonuniformity.yml')"
   ]
  },
  {
   "cell_type": "code",
   "execution_count": 3,
   "id": "a206fbe7-757e-4df6-803f-3abf170874de",
   "metadata": {},
   "outputs": [
    {
     "name": "stdout",
     "output_type": "stream",
     "text": [
      "\n",
      "Executing flow_engine_train\n",
      "Command is:\n",
      "OMP_NUM_THREADS=1   python3 -m ceci rail.creation.engines.flowEngine.FlowCreator   --model=/global/u2/q/qhang/desc/rail_base/src/rail/examples_data/goldenspike_data/data/pretrained_flow.pkl   --name=flow_engine_train   --config=tmp_survey_nonuniformity_config.yml   --output=./catalog/created/output_flow_engine_train.pq \n",
      "Output writing to ./flow_engine_train.out\n",
      "\n",
      "Job flow_engine_train has failed with status 1\n"
     ]
    },
    {
     "name": "stderr",
     "output_type": "stream",
     "text": [
      "\n",
      "*************************************************\n",
      "Error running pipeline stage flow_engine_train.\n",
      "\n",
      "Standard output and error streams in ./flow_engine_train.out\n",
      "*************************************************\n"
     ]
    },
    {
     "data": {
      "text/plain": [
       "1"
      ]
     },
     "execution_count": 3,
     "metadata": {},
     "output_type": "execute_result"
    }
   ],
   "source": [
    "pr.run() # this somehow is not using the rail_dev environment to run"
   ]
  },
  {
   "cell_type": "markdown",
   "id": "68517448-1a1e-48fc-85f5-ea3ccbb541b8",
   "metadata": {},
   "source": [
    "### *If you are running this on nersc:* \n",
    "\n",
    "Better use command line as Jupyter notebook may fail:\n",
    "\n",
    "```\n",
    "ceci tmp_survey_nonuniformity.yml\n",
    "```\n",
    "\n",
    "You need to set name of `site: name:` to `local` or `nersc` in `tmp_survey_nonuniformity.yml`. \n",
    "\n",
    "You might want to require an interactive node for the `flowEngine` to work (takes about 2.5G memory):\n",
    "\n",
    "```\n",
    "salloc --nodes 1 --qos interactive --time 00:10:00 --constraint cpu\n",
    "```"
   ]
  },
  {
   "cell_type": "markdown",
   "id": "5a507f0b-c130-4c74-b964-262f97c49629",
   "metadata": {
    "tags": []
   },
   "source": [
    "# Check n(z) in tomographic bins with depth:"
   ]
  },
  {
   "cell_type": "code",
   "execution_count": 40,
   "id": "26c06fb4-0a88-4102-8415-11d08a3efd37",
   "metadata": {},
   "outputs": [],
   "source": [
    "# load the tomographic bins:\n",
    "ftomo=tables_io.read(\"./pdf/pz/output_tomography.hdf5\")\n",
    "tomo=ftomo['class_id']\n",
    "objid=ftomo['row_index']"
   ]
  },
  {
   "cell_type": "code",
   "execution_count": 45,
   "id": "06e3c212-4cae-42cb-a1ee-4125d03ed2fa",
   "metadata": {},
   "outputs": [],
   "source": [
    "# load the object ra, dec:\n",
    "fobj=tables_io.read(\"./catalog/degraded/output_table_conv.hdf5\")\n",
    "ra=fobj['ra']\n",
    "redshift=fobj['redshift']\n",
    "magi=fobj['mag_i_lsst']\n",
    "magi_err=fobj['mag_err_i_lsst']"
   ]
  },
  {
   "cell_type": "code",
   "execution_count": 67,
   "id": "af3a447c-bed7-4101-98e8-42838ee4ed37",
   "metadata": {
    "tags": []
   },
   "outputs": [
    {
     "data": {
      "image/png": "[encoded data removed]",
      "text/plain": [
       "<Figure size 1200x300 with 3 Axes>"
      ]
     },
     "metadata": {},
     "output_type": "display_data"
    }
   ],
   "source": [
    "# total:\n",
    "fig,axarr=plt.subplots(1,3,figsize=[12,3])\n",
    "for ii in range(3):\n",
    "    ind1=tomo==(ii+1)\n",
    "    plt.sca(axarr[ii])\n",
    "    cc=plt.hist(redshift[ind1], bins=15, range=[0,3],label=f'tomo {ii+1}', \n",
    "                histtype='step',color=f'C{ii}', lw=2)\n",
    "    plt.legend(loc='upper right')\n",
    "    plt.xlabel(\"redshift\")\n",
    "    plt.ylabel(\"Number of objects\")\n",
    "plt.tight_layout()"
   ]
  },
  {
   "cell_type": "code",
   "execution_count": 65,
   "id": "a1dfe4fe-bdd7-4bc0-b09c-4776643953fd",
   "metadata": {},
   "outputs": [
    {
     "data": {
      "image/png": "[encoded data removed]",
      "text/plain": [
       "<Figure size 1200x300 with 3 Axes>"
      ]
     },
     "metadata": {},
     "output_type": "display_data"
    }
   ],
   "source": [
    "# now also split in depth:\n",
    "fig,axarr=plt.subplots(1,3,figsize=[12,3])\n",
    "for ii in range(3):\n",
    "    ind1=tomo==(ii+1)\n",
    "    ind2=ra<62\n",
    "    plt.sca(axarr[ii])\n",
    "    cc=plt.hist(redshift[ind1*ind2], bins=15, range=[0,3],label=f'tomo {ii+1}, ra<62', \n",
    "                histtype='step',color=f'C{ii}', lw=2)\n",
    "    cc=plt.hist(redshift[ind1*(~ind2)], bins=15, range=[0,3],label=f'tomo {ii+1}, ra>=62', \n",
    "                color=f'C{ii}', alpha=0.35)\n",
    "    plt.legend()\n",
    "    plt.xlabel(\"redshift\")\n",
    "    plt.ylabel(\"Number of objects\")\n",
    "plt.tight_layout()"
   ]
  },
  {
   "cell_type": "code",
   "execution_count": 64,
   "id": "dc934d61-8523-45d7-9ef2-9eccc5866ef1",
   "metadata": {
    "tags": []
   },
   "outputs": [
    {
     "data": {
      "image/png": "[encoded data removed]",
      "text/plain": [
       "<Figure size 1200x300 with 3 Axes>"
      ]
     },
     "metadata": {},
     "output_type": "display_data"
    }
   ],
   "source": [
    "# if we select sample with higher snr and i-band magnitude limit:\n",
    "# compute snr:\n",
    "snr=1/(10**(magi_err/2.5)-1)\n",
    "ind3=snr>8\n",
    "\n",
    "# magnitude limit:\n",
    "ind4=magi<24.5\n",
    "\n",
    "fig,axarr=plt.subplots(1,3,figsize=[12,3])\n",
    "for ii in range(3):\n",
    "    ind1=tomo==(ii+1)\n",
    "    ind2=ra<62\n",
    "    plt.sca(axarr[ii])\n",
    "    cc=plt.hist(redshift[ind1*ind2*ind3*ind4], bins=15, range=[0,3],label=f'tomo {ii+1}, ra<62', \n",
    "                histtype='step',color=f'C{ii}', lw=2)\n",
    "    cc=plt.hist(redshift[ind1*(~ind2)*ind3*ind4], bins=15, range=[0,3],label=f'tomo {ii+1}, ra>=62', \n",
    "                color=f'C{ii}', alpha=0.35)\n",
    "    plt.legend()\n",
    "    plt.xlabel(\"redshift\")\n",
    "    plt.ylabel(\"Number of objects\")\n",
    "plt.tight_layout()"
   ]
  },
  {
   "cell_type": "markdown",
   "id": "e1b76cbe-c52f-4a0f-b82d-20340db0642d",
   "metadata": {},
   "source": [
    "We see that given a SNR cut of 8 and i-band magnitude cut at 24.5, we find more, higher redshift objects in the deeper pixels, as expected."
   ]
  },
  {
   "cell_type": "code",
   "execution_count": null,
   "id": "d2f4b2d4-412e-4394-a408-1b3de7de1894",
   "metadata": {},
   "outputs": [],
   "source": []
  }
 ],
 "metadata": {
  "kernelspec": {
   "display_name": "rail_dev",
   "language": "python",
   "name": "rail_dev"
  },
  "language_info": {
   "codemirror_mode": {
    "name": "ipython",
    "version": 3
   },
   "file_extension": ".py",
   "mimetype": "text/x-python",
   "name": "python",
   "nbconvert_exporter": "python",
   "pygments_lexer": "ipython3",
   "version": "3.11.4"
  }
 },
 "nbformat": 4,
 "nbformat_minor": 5
}
