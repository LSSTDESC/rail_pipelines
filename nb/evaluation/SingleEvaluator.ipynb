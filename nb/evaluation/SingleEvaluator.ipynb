{
 "cells": [
  {
   "cell_type": "code",
   "execution_count": null,
   "id": "4339c5a1-d3ae-4152-adb3-87478724ae55",
   "metadata": {},
   "outputs": [],
   "source": [
    "# usual imports\n",
    "import os\n",
    "import numpy as np\n",
    "import matplotlib.pyplot as plt\n",
    "from rail.utils.path_utils import RAILDIR\n",
    "from rail.core import common_params, RailStage\n",
    "from rail.core.data import TableHandle, QPOrTableHandle\n",
    "from rail.pipelines.utils.name_factory import NameFactory, DataType, CatalogType, ModelType, PdfType\n",
    "from rail.evaluation.single_evaluator import SingleEvaluator\n",
    "import qp\n",
    "from qp.metrics import MetricFactory\n",
    "import ceci"
   ]
  },
  {
   "cell_type": "code",
   "execution_count": null,
   "id": "8d84c7ad-27fa-4ee8-9276-5189a966de10",
   "metadata": {},
   "outputs": [],
   "source": [
    "DS = RailStage.data_store\n",
    "DS.__class__.allow_overwrite = True"
   ]
  },
  {
   "cell_type": "code",
   "execution_count": null,
   "id": "e484a053-a322-423c-89ba-c314e162ec32",
   "metadata": {},
   "outputs": [],
   "source": [
    "data_origin = 'roman_rubin'"
   ]
  },
  {
   "cell_type": "code",
   "execution_count": null,
   "id": "4360fce5-7385-48e7-ad8b-319587e6381d",
   "metadata": {},
   "outputs": [],
   "source": [
    "if data_origin == 'hsc':\n",
    "    pdf_dir = '/global/cfs/cdirs/lsst/groups/PZ/HSCDATA/SPECTROSCOPY'\n",
    "elif data_origin == 'dc2':\n",
    "    pdf_dir = '/global/cfs/cdirs/lsst/groups/PZ/PhotoZDC2/run2.2i_dr6_v2/'\n",
    "elif data_origin == 'roman_rubin':\n",
    "    pdf_dir = '/sdf/data/rubin/shared/pz/pdfs/roman_rubin_2023_v1.1.3_parquet_healpixel_maglim_25.5_truth_to_observed'\n",
    "    truth_dir = '/sdf/data/rubin/shared/pz/data/roman_rubin_2023_v1.1.3_parquet_healpixel_maglim_25.5_truth_to_observed/10050/'"
   ]
  },
  {
   "cell_type": "code",
   "execution_count": null,
   "id": "3d580d08-91c8-4a51-a179-1cecb12d8c94",
   "metadata": {},
   "outputs": [],
   "source": [
    "estimate_file = os.path.join(pdf_dir, 'estimate_roman_rubin_fzb/10050/pdf/pz/output_FZBoost.hdf5')\n",
    "truth_file = os.path.join(truth_dir, 'output.hdf5')"
   ]
  },
  {
   "cell_type": "code",
   "execution_count": null,
   "id": "4e82129d-c76c-4b2e-b269-c7e759255dd8",
   "metadata": {},
   "outputs": [],
   "source": [
    "estimate = DS.read_file('estimte', QPOrTableHandle, path=estimate_file)\n",
    "truth = DS.read_file('truth', QPOrTableHandle, path=truth_file)"
   ]
  },
  {
   "cell_type": "code",
   "execution_count": null,
   "id": "407e2f58-bc7e-4ff7-a567-e2a900a6d39a",
   "metadata": {},
   "outputs": [],
   "source": [
    "the_eval = SingleEvaluator.make_stage(\n",
    "    name='evalute_fzboost',\n",
    "    metrics=['all'], \n",
    "    exclude_metrics=['rmse', 'ks', 'kld', 'cvm', 'ad', 'rbpe', 'outlier'],\n",
    "    hdf5_groupname=\"\", \n",
    "    limits=[0, 3.5], \n",
    "    truth_point_estimates=['redshift'],\n",
    "    point_estimates=['mode'],\n",
    ")"
   ]
  },
  {
   "cell_type": "code",
   "execution_count": null,
   "id": "241e7b0f-cd13-4bde-a25f-b98907351957",
   "metadata": {},
   "outputs": [],
   "source": [
    "dd = the_eval.evaluate(estimate,truth)"
   ]
  },
  {
   "cell_type": "code",
   "execution_count": null,
   "id": "df38da7d-9743-429a-8ff5-50388ce50fb1",
   "metadata": {},
   "outputs": [],
   "source": [
    "dd"
   ]
  },
  {
   "cell_type": "code",
   "execution_count": null,
   "id": "7abb5a01-f165-4d56-9c52-f31a7492c756",
   "metadata": {},
   "outputs": [],
   "source": [
    "dd['output'].data"
   ]
  },
  {
   "cell_type": "code",
   "execution_count": null,
   "id": "4749bad7-680c-4407-87c4-ccd6c7d4ef68",
   "metadata": {},
   "outputs": [],
   "source": [
    "dd['summary'].data"
   ]
  },
  {
   "cell_type": "code",
   "execution_count": null,
   "id": "631f7a35-e0d9-4205-bec4-091840a76e09",
   "metadata": {},
   "outputs": [],
   "source": [
    "dd['single_distribution_summary'].data"
   ]
  }
 ],
 "metadata": {
  "kernelspec": {
   "display_name": "Python 3 (ipykernel)",
   "language": "python",
   "name": "python3"
  },
  "language_info": {
   "codemirror_mode": {
    "name": "ipython",
    "version": 3
   },
   "file_extension": ".py",
   "mimetype": "text/x-python",
   "name": "python",
   "nbconvert_exporter": "python",
   "pygments_lexer": "ipython3",
   "version": "3.12.2"
  }
 },
 "nbformat": 4,
 "nbformat_minor": 5
}
