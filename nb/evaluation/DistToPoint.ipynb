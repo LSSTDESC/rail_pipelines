{
 "cells": [
  {
   "cell_type": "code",
   "execution_count": null,
   "id": "29cef1f8-be9d-448f-a737-bb3f666e73e2",
   "metadata": {},
   "outputs": [],
   "source": [
    "# usual imports\n",
    "import os\n",
    "import numpy as np\n",
    "import matplotlib.pyplot as plt\n",
    "from rail.utils.path_utils import RAILDIR\n",
    "from rail.core import common_params, RailStage\n",
    "from rail.core.data import TableHandle, QPHandle\n",
    "from rail.pipelines.utils.name_factory import NameFactory, DataType, CatalogType, ModelType, PdfType\n",
    "from rail.evaluation.dist_to_point_evaluator import DistToPointEvaluator\n",
    "import qp\n",
    "import ceci"
   ]
  },
  {
   "cell_type": "code",
   "execution_count": null,
   "id": "e85a8f5d-8f30-43e5-9bfc-e3b95a680776",
   "metadata": {},
   "outputs": [],
   "source": [
    "DS = RailStage.data_store\n",
    "DS.__class__.allow_overwrite = True"
   ]
  },
  {
   "cell_type": "code",
   "execution_count": null,
   "id": "72fa4bb6-79f0-4189-b6fa-b06610c21692",
   "metadata": {},
   "outputs": [],
   "source": [
    "data_origin = 'roman_rubin'"
   ]
  },
  {
   "cell_type": "code",
   "execution_count": null,
   "id": "3c9f3c08-673b-44a7-a267-57701a67d91c",
   "metadata": {},
   "outputs": [],
   "source": [
    "if data_origin == 'hsc':\n",
    "    pdf_dir = '/global/cfs/cdirs/lsst/groups/PZ/HSCDATA/SPECTROSCOPY'\n",
    "elif data_origin == 'dc2':\n",
    "    pdf_dir = '/global/cfs/cdirs/lsst/groups/PZ/PhotoZDC2/run2.2i_dr6_v2/'\n",
    "elif data_origin == 'roman_rubin':\n",
    "    pdf_dir = '/sdf/data/rubin/shared/pz/pdfs/roman_rubin_2023_v1.1.3_parquet_healpixel_maglim_25.5_truth_to_observed'\n",
    "    truth_dir = '/sdf/data/rubin/shared/pz/data/roman_rubin_2023_v1.1.3_parquet_healpixel_maglim_25.5/10050/'"
   ]
  },
  {
   "cell_type": "code",
   "execution_count": null,
   "id": "1f5aa7ba-7af6-4ce8-a8b0-623cb8c8dbcf",
   "metadata": {},
   "outputs": [],
   "source": [
    "estimate_file = os.path.join(pdf_dir, 'estimate_roman_rubin_fzb/10050/pdf/pz/output_FZBoost.hdf5')\n",
    "truth_file = os.path.join(truth_dir, 'part-0.parquet')"
   ]
  },
  {
   "cell_type": "code",
   "execution_count": null,
   "id": "f567a681-c997-4524-b3f1-54b743e1589a",
   "metadata": {},
   "outputs": [],
   "source": [
    "estimate = DS.read_file('estimte', QPHandle, path=estimate_file)\n",
    "truth = DS.read_file('truth', TableHandle, path=truth_file)"
   ]
  },
  {
   "cell_type": "code",
   "execution_count": null,
   "id": "b1bc44d0-ce9b-48ee-b87e-19bbc448cf96",
   "metadata": {},
   "outputs": [],
   "source": [
    "the_eval = DistToPointEvaluator.make_stage(name='evalute_fzboost', metrics=['all'], hdf5_groupname=\"\", limits=[0, 3.5])"
   ]
  },
  {
   "cell_type": "code",
   "execution_count": null,
   "id": "e8a99c27-7870-4c18-a7f4-908adc53d465",
   "metadata": {},
   "outputs": [],
   "source": [
    "the_eval.config"
   ]
  },
  {
   "cell_type": "code",
   "execution_count": null,
   "id": "a28b5ffe-f29b-439a-a6c5-6db09d2137a6",
   "metadata": {},
   "outputs": [],
   "source": [
    "dd = the_eval.evaluate(estimate,truth)"
   ]
  },
  {
   "cell_type": "code",
   "execution_count": null,
   "id": "6ac2dd74-1993-4b53-9a4f-dd23c82becea",
   "metadata": {},
   "outputs": [],
   "source": [
    "dd['summary'].data"
   ]
  },
  {
   "cell_type": "code",
   "execution_count": null,
   "id": "ae1fc39b-fdcb-4413-9074-88fff6c26c38",
   "metadata": {},
   "outputs": [],
   "source": [
    "xvals = np.linspace(0, 1., 101)\n",
    "pitvals = np.squeeze(dd['single_distribution_summary'].data['pit'].pdf(xvals))\n",
    "pitcdfvals = np.squeeze(dd['single_distribution_summary'].data['pit'].cdf(xvals))"
   ]
  },
  {
   "cell_type": "code",
   "execution_count": null,
   "id": "0af51f59-74c1-48dd-aaee-17bcca3ba97d",
   "metadata": {},
   "outputs": [],
   "source": [
    "fig = plt.figure()\n",
    "_ = plt.plot([0,1], [0,1])\n",
    "_ = plt.plot(xvals, pitcdfvals)\n",
    "_ = plt.xlabel('q')\n",
    "_ = plt.ylabel('cdf(q)')"
   ]
  },
  {
   "cell_type": "code",
   "execution_count": null,
   "id": "1cce7f4a-7f57-41da-9953-e15a6278387e",
   "metadata": {},
   "outputs": [],
   "source": [
    "fig2 = plt.figure()\n",
    "_ = plt.plot([0,1], [1,1])\n",
    "_ = plt.semilogy(xvals, pitvals)\n",
    "_ = plt.xlabel('q')\n",
    "_ = plt.ylabel('p(q)')"
   ]
  },
  {
   "cell_type": "code",
   "execution_count": null,
   "id": "1fecce4c-49fd-4649-a52d-a68daaec77c8",
   "metadata": {},
   "outputs": [],
   "source": [
    "dir(plt)"
   ]
  },
  {
   "cell_type": "code",
   "execution_count": null,
   "id": "e1cd5863-4780-4920-bb99-07e21ea0f8e0",
   "metadata": {},
   "outputs": [],
   "source": []
  }
 ],
 "metadata": {
  "kernelspec": {
   "display_name": "Python 3 (ipykernel)",
   "language": "python",
   "name": "python3"
  },
  "language_info": {
   "codemirror_mode": {
    "name": "ipython",
    "version": 3
   },
   "file_extension": ".py",
   "mimetype": "text/x-python",
   "name": "python",
   "nbconvert_exporter": "python",
   "pygments_lexer": "ipython3",
   "version": "3.12.2"
  }
 },
 "nbformat": 4,
 "nbformat_minor": 5
}
