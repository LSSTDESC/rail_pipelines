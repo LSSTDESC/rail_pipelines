{
 "cells": [
  {
   "cell_type": "code",
   "execution_count": 1,
   "id": "f9463120",
   "metadata": {
    "tags": []
   },
   "outputs": [
    {
     "name": "stdout",
     "output_type": "stream",
     "text": [
      "Imported rail.hub\n",
      "Imported rail.astro_tools\n",
      "Imported rail.core\n",
      "Imported rail.stages\n",
      "Imported rail.bpz\n",
      "Imported rail.cmnn\n",
      "Imported rail.delight\n",
      "Failed to import rail.dsps because: You need to have the SPS_HOME environment variable\n",
      "Imported rail.flexzboost\n",
      "Failed to import rail.gpz because: No module named 'rail.estimation.algos.gpz_v1'\n",
      "Imported rail.pipelines\n",
      "Failed to import rail.pzflow because: No module named 'rail.estimation.algos.pzflow'\n",
      "Imported rail.sklearn\n",
      "Imported rail.som\n",
      "Attached 10 base classes and 47 fully formed stages to rail.stages\n"
     ]
    }
   ],
   "source": [
    "# usual imports\n",
    "import os\n",
    "import numpy as np\n",
    "from rail.core.utils import RAILDIR\n",
    "# from rail.estimation.algos.bpz_version.utils import RAIL_BPZ_DIR\n",
    "from rail.pipelines.estimation.inform_all import InformPipeline\n",
    "from rail.core import common_params"
   ]
  },
  {
   "cell_type": "code",
   "execution_count": 2,
   "id": "fa7fa474",
   "metadata": {
    "tags": []
   },
   "outputs": [],
   "source": [
    "bands = 'grizy'\n",
    "maglims = [27.66, 27.25, 26.6, 26.24, 25.35]\n",
    "maglim_dict={}\n",
    "for band,limx in zip(bands, maglims):\n",
    "    maglim_dict[f\"HSC{band}_cmodel_dered\"] = limx"
   ]
  },
  {
   "cell_type": "code",
   "execution_count": 3,
   "id": "4f204e39",
   "metadata": {
    "tags": []
   },
   "outputs": [],
   "source": [
    "common_params.set_param_defaults(\n",
    "    bands=[f'HSC{band}_cmodel_dered' for band in bands],\n",
    "    err_bands=[f'{band}_cmodel_magerr' for band in bands],\n",
    "    nondetect_val=np.nan,\n",
    "    ref_band='HSCi_cmodel_dered',\n",
    "    redshift_col='specz_redshift',\n",
    "    mag_limits=maglim_dict,\n",
    "    zmax = 6.0,\n",
    ")"
   ]
  },
  {
   "cell_type": "code",
   "execution_count": 4,
   "id": "36ab51b1",
   "metadata": {
    "tags": []
   },
   "outputs": [],
   "source": [
    "pipe = InformPipeline()"
   ]
  },
  {
   "cell_type": "code",
   "execution_count": 5,
   "id": "7bafc197-5089-4a0a-a1f5-3efbebaaf425",
   "metadata": {
    "tags": []
   },
   "outputs": [
    {
     "data": {
      "text/plain": [
       "['__class__',\n",
       " '__delattr__',\n",
       " '__dict__',\n",
       " '__dir__',\n",
       " '__doc__',\n",
       " '__eq__',\n",
       " '__format__',\n",
       " '__ge__',\n",
       " '__getattr__',\n",
       " '__getattribute__',\n",
       " '__getitem__',\n",
       " '__getstate__',\n",
       " '__gt__',\n",
       " '__hash__',\n",
       " '__init__',\n",
       " '__init_subclass__',\n",
       " '__le__',\n",
       " '__lt__',\n",
       " '__module__',\n",
       " '__ne__',\n",
       " '__new__',\n",
       " '__reduce__',\n",
       " '__reduce_ex__',\n",
       " '__repr__',\n",
       " '__setattr__',\n",
       " '__sizeof__',\n",
       " '__str__',\n",
       " '__subclasshook__',\n",
       " '__weakref__',\n",
       " 'add_stage',\n",
       " 'build_config',\n",
       " 'build_dag',\n",
       " 'build_stage',\n",
       " 'callback',\n",
       " 'create',\n",
       " 'enqueue_job',\n",
       " 'find_all_outputs',\n",
       " 'get_stage_aliases',\n",
       " 'global_config',\n",
       " 'initialize',\n",
       " 'initiate_run',\n",
       " 'interactive',\n",
       " 'launcher_config',\n",
       " 'make_flow_chart',\n",
       " 'modules',\n",
       " 'ordered_stages',\n",
       " 'overall_inputs',\n",
       " 'pipeline_files',\n",
       " 'pipeline_outputs',\n",
       " 'print_stages',\n",
       " 'read',\n",
       " 'remove_stage',\n",
       " 'run',\n",
       " 'run_config',\n",
       " 'run_info',\n",
       " 'run_jobs',\n",
       " 'save',\n",
       " 'should_skip_stage',\n",
       " 'sleep',\n",
       " 'stage_config_data',\n",
       " 'stage_execution_config',\n",
       " 'stage_names',\n",
       " 'stages',\n",
       " 'stages_config']"
      ]
     },
     "execution_count": 5,
     "metadata": {},
     "output_type": "execute_result"
    }
   ],
   "source": [
    "dir(pipe)"
   ]
  },
  {
   "cell_type": "code",
   "execution_count": 7,
   "id": "04be8a42-d432-4c7a-8e18-3cd2eaeae8d0",
   "metadata": {
    "tags": []
   },
   "outputs": [
    {
     "data": {
      "text/plain": [
       "['inform_trainz',\n",
       " 'inform_simplenn',\n",
       " 'inform_knn',\n",
       " 'inform_simplesom',\n",
       " 'inform_somoclu',\n",
       " 'inform_bpz',\n",
       " 'inform_fzboost']"
      ]
     },
     "execution_count": 7,
     "metadata": {},
     "output_type": "execute_result"
    }
   ],
   "source": [
    "pipe.stage_names"
   ]
  },
  {
   "cell_type": "code",
   "execution_count": 9,
   "id": "019a391b-6ed2-4b5e-91d4-cdc8c5bcbcff",
   "metadata": {
    "tags": []
   },
   "outputs": [],
   "source": [
    "pipe.inform_knn.config.update(leaf_size = 14)"
   ]
  },
  {
   "cell_type": "code",
   "execution_count": 10,
   "id": "8a153201-2354-4923-bf92-dacc0ed6b42e",
   "metadata": {
    "tags": []
   },
   "outputs": [
    {
     "data": {
      "text/plain": [
       "StageConfig{output_mode:default,hdf5_groupname:,save_train:True,zmin:0.0,zmax:6.0,nzbins:301,nondetect_val:nan,mag_limits:{'HSCg_cmodel_dered': 27.66, 'HSCr_cmodel_dered': 27.25, 'HSCi_cmodel_dered': 26.6, 'HSCz_cmodel_dered': 26.24, 'HSCy_cmodel_dered': 25.35},bands:['HSCg_cmodel_dered', 'HSCr_cmodel_dered', 'HSCi_cmodel_dered', 'HSCz_cmodel_dered', 'HSCy_cmodel_dered'],ref_band:HSCi_cmodel_dered,redshift_col:specz_redshift,trainfrac:0.75,seed:0,sigma_grid_min:0.01,sigma_grid_max:0.075,ngrid_sigma:10,leaf_size:14,nneigh_min:3,nneigh_max:7,name:inform_knn,model:model/estimator/model_knn.pkl,config:None,input:None,aliases:{'model': 'model_inform_knn'},}"
      ]
     },
     "execution_count": 10,
     "metadata": {},
     "output_type": "execute_result"
    }
   ],
   "source": [
    "pipe.inform_knn.config"
   ]
  },
  {
   "cell_type": "code",
   "execution_count": 13,
   "id": "c6a080f9-ea73-4667-bfba-25ec5b25bcc3",
   "metadata": {
    "tags": []
   },
   "outputs": [],
   "source": [
    "RAIL_BPZ_DIR = \"/pscratch/sd/z/ztq1996/RAIL/rail_bpz/src/\""
   ]
  },
  {
   "cell_type": "code",
   "execution_count": null,
   "id": "b4721854-b02b-4221-b66e-b4eb73aec8e1",
   "metadata": {},
   "outputs": [],
   "source": []
  },
  {
   "cell_type": "code",
   "execution_count": 14,
   "id": "013132ee",
   "metadata": {
    "tags": []
   },
   "outputs": [],
   "source": [
    "pipe.inform_bpz.config.update(\n",
    "    zp_errors=[0.01, 0.01, 0.01, 0.01, 0.01],\n",
    "    columns_file = os.path.join(\n",
    "        RAIL_BPZ_DIR, 'rail', 'examples_data', 'estimation_data', 'configs', 'test_bpz_hsc.columns',\n",
    "    ),\n",
    ")"
   ]
  },
  {
   "cell_type": "code",
   "execution_count": 15,
   "id": "140b46c1",
   "metadata": {},
   "outputs": [],
   "source": [
    "input_file = 'dered_223501_sz_match_pdr3_dud_NONDET.hdf5'\n",
    "\n",
    "input_dict = dict(\n",
    "    input=input_file,\n",
    ")"
   ]
  },
  {
   "cell_type": "code",
   "execution_count": 16,
   "id": "088b42d7",
   "metadata": {},
   "outputs": [
    {
     "name": "stdout",
     "output_type": "stream",
     "text": [
      "Skipping stage inform_bpz because its outputs exist already\n"
     ]
    }
   ],
   "source": [
    "pipe_info = pipe.initialize(input_dict, dict(output_dir='.', log_dir='.', resume=True), None)"
   ]
  },
  {
   "cell_type": "code",
   "execution_count": 17,
   "id": "298e80fa",
   "metadata": {},
   "outputs": [],
   "source": [
    "pipe.save('tmp_inform_all.yml')"
   ]
  },
  {
   "cell_type": "code",
   "execution_count": 18,
   "id": "97dd95f0",
   "metadata": {},
   "outputs": [
    {
     "name": "stdout",
     "output_type": "stream",
     "text": [
      "Skipping stage inform_bpz because its outputs exist already\n"
     ]
    }
   ],
   "source": [
    "import ceci\n",
    "pr = ceci.Pipeline.read('tmp_inform_all.yml')"
   ]
  },
  {
   "cell_type": "code",
   "execution_count": 19,
   "id": "d8a21466",
   "metadata": {},
   "outputs": [
    {
     "name": "stdout",
     "output_type": "stream",
     "text": [
      "\n",
      "Executing inform_fzboost\n",
      "Command is:\n",
      "OMP_NUM_THREADS=1   python3 -m ceci rail.estimation.algos.flexzboost.FlexZBoostInformer   --input=dered_223501_sz_match_pdr3_dud_NONDET.hdf5   --name=inform_fzboost   --config=tmp_inform_all_config.yml   --model=./model/estimator/model_FZBoost.hdf5 \n",
      "Output writing to ./inform_fzboost.out\n",
      "\n",
      "Job inform_fzboost has failed with status 1\n"
     ]
    },
    {
     "name": "stderr",
     "output_type": "stream",
     "text": [
      "\n",
      "*************************************************\n",
      "Error running pipeline stage inform_fzboost.\n",
      "\n",
      "Standard output and error streams in ./inform_fzboost.out\n",
      "*************************************************\n"
     ]
    },
    {
     "data": {
      "text/plain": [
       "1"
      ]
     },
     "execution_count": 19,
     "metadata": {},
     "output_type": "execute_result"
    }
   ],
   "source": [
    "pr.run()"
   ]
  },
  {
   "cell_type": "code",
   "execution_count": 12,
   "id": "e4dab658",
   "metadata": {},
   "outputs": [],
   "source": [
    "# curl -O https://portal.nersc.gov/cfs/lsst/PZ/dered_223501_sz_match_pdr3_dud_NONDET.hdf5"
   ]
  },
  {
   "cell_type": "code",
   "execution_count": 13,
   "id": "8f65a4fb",
   "metadata": {},
   "outputs": [],
   "source": [
    "# OMP_NUM_THREADS=1   python3 -m ceci rail.estimation.algos.flexzboost.FlexZBoostInformer   --input=dered_223501_sz_match_pdr3_dud_NONDET.hdf5   --name=inform_fzboost   --config=tmp_inform_all_config.yml   --model=./model/estimator/model_FZBoost.hdf5\n",
    "\n",
    "\n",
    "\n"
   ]
  }
 ],
 "metadata": {
  "kernelspec": {
   "display_name": "rail_env",
   "language": "python",
   "name": "rail_env"
  },
  "language_info": {
   "codemirror_mode": {
    "name": "ipython",
    "version": 3
   },
   "file_extension": ".py",
   "mimetype": "text/x-python",
   "name": "python",
   "nbconvert_exporter": "python",
   "pygments_lexer": "ipython3",
   "version": "3.11.4"
  }
 },
 "nbformat": 4,
 "nbformat_minor": 5
}
