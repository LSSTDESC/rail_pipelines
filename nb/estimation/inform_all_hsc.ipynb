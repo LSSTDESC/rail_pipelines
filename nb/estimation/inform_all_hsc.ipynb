{
 "cells": [
  {
   "cell_type": "markdown",
   "id": "c1ca9e0d",
   "metadata": {},
   "source": [
    "### usual imports"
   ]
  },
  {
   "cell_type": "code",
   "execution_count": null,
   "id": "8d649b75",
   "metadata": {},
   "outputs": [],
   "source": [
    "import os\n",
    "import numpy as np\n",
    "from rail.core.utils import RAILDIR\n",
    "#from rail.estimation.algos.bpz_version.utils import RAIL_BPZ_DIR\n",
    "from rail.pipelines.estimation.inform_all import InformPipeline\n",
    "from rail.core import common_params\n",
    "RAIL_BPZ_DIR = '../../../rail_bpz/rail_bpz/src/'"
   ]
  },
  {
   "cell_type": "markdown",
   "id": "4fe85b6d",
   "metadata": {},
   "source": [
    "### The following two cells define common parameters before building stages. These parameters are shared by all the stages. Params changed in individual stages will not result in changes in common_params"
   ]
  },
  {
   "cell_type": "code",
   "execution_count": null,
   "id": "c481ac82",
   "metadata": {},
   "outputs": [],
   "source": [
    "bands = 'grizy'\n",
    "maglims = [27.66, 27.25, 26.6, 26.24, 25.35]\n",
    "maglim_dict={}\n",
    "for band,limx in zip(bands, maglims):\n",
    "    maglim_dict[f\"HSC{band}_cmodel_dered\"] = limx"
   ]
  },
  {
   "cell_type": "code",
   "execution_count": null,
   "id": "1d2f7a5b",
   "metadata": {},
   "outputs": [],
   "source": [
    "common_params.set_param_defaults(\n",
    "    bands=[f'HSC{band}_cmodel_dered' for band in bands],\n",
    "    err_bands=[f'{band}_cmodel_magerr' for band in bands],\n",
    "    nondetect_val=np.nan,\n",
    "    ref_band='HSCi_cmodel_dered',\n",
    "    redshift_col='specz_redshift',\n",
    "    mag_limits=maglim_dict,\n",
    "    zmax = 6.0,\n",
    ")"
   ]
  },
  {
   "cell_type": "markdown",
   "id": "719d0385",
   "metadata": {},
   "source": [
    "from rail.core import *\n",
    "RailEnv.print_rail_stage_dict()"
   ]
  },
  {
   "cell_type": "markdown",
   "id": "ed2c3922",
   "metadata": {},
   "source": [
    "### Inform the pipeline"
   ]
  },
  {
   "cell_type": "code",
   "execution_count": null,
   "id": "cf6615a3",
   "metadata": {},
   "outputs": [],
   "source": [
    "pipe = InformPipeline()"
   ]
  },
  {
   "cell_type": "markdown",
   "id": "a7a60df6",
   "metadata": {},
   "source": [
    "### Examples of updating parameters for individual stages"
   ]
  },
  {
   "cell_type": "code",
   "execution_count": null,
   "id": "21d881b7",
   "metadata": {},
   "outputs": [],
   "source": [
    "#pipe.inform_knn.config.update(leaf_size=14)  #example to change config param values\n",
    "pipe.inform_somoclu.config.update(gridtype = 'hexagonal', maptype=\"toroid\", column_usage='colors', std_coeff=2, som_learning_rate=10)\n",
    "pipe.inform_simplesom.config.update(column_usage='colors')"
   ]
  },
  {
   "cell_type": "markdown",
   "id": "3c2f528b",
   "metadata": {},
   "source": [
    "pipe.inform_bpz.config.update(\n",
    "    zp_errors=[0.01, 0.01, 0.01, 0.01, 0.01],\n",
    "    columns_file = os.path.join(\n",
    "        RAIL_BPZ_DIR, 'rail', 'examples_data', 'estimation_data', 'configs', 'test_bpz_hsc.columns',\n",
    "    ),\n",
    ")"
   ]
  },
  {
   "cell_type": "markdown",
   "id": "ca50c166",
   "metadata": {},
   "source": [
    "### Define the input file to inform stages"
   ]
  },
  {
   "cell_type": "code",
   "execution_count": null,
   "id": "a4eeee22",
   "metadata": {},
   "outputs": [],
   "source": [
    "DATA_DIR = \"/net/home/fohlen14/yanza21/DATA/data_for_rail/\"  # the directory that sore data\n",
    "# DATA_DIR = \"/global/cfs/cdirs/desc-pz/HSCDATA\"  # the data directory on NERSC"
   ]
  },
  {
   "cell_type": "code",
   "execution_count": null,
   "id": "bb7718fb",
   "metadata": {},
   "outputs": [],
   "source": [
    "#input_file = '/net/home/fohlen14/yanza21/DATA/data_for_rail/dered_223501_sz_match_pdr3_dud_NONDET.hdf5'\n",
    "#input_file = '/net/home/fohlen14/yanza21/DATA/data_for_rail/hecto_deredden_nondet.hdf5'\n",
    "input_file = f'{DATA_DIR}GAMA15H_calibrated_pz_dered.hdf5'\n",
    "input_dict = dict(\n",
    "    input=input_file,\n",
    ")"
   ]
  },
  {
   "cell_type": "markdown",
   "id": "2b177bbb",
   "metadata": {},
   "source": [
    "### Initialize the pipeline with the input file.\n",
    "Setting `resume=True` if you want to skip pre-informed stages\n",
    "None is an external configuration file that is not defined in the previous cells"
   ]
  },
  {
   "cell_type": "code",
   "execution_count": null,
   "id": "4d10747f",
   "metadata": {},
   "outputs": [],
   "source": [
    "pipe_info = pipe.initialize(input_dict, dict(output_dir='.', log_dir='.', resume=False), None)  "
   ]
  },
  {
   "cell_type": "markdown",
   "id": "9ea96c08",
   "metadata": {},
   "source": [
    "### Save the configuration to a yaml file"
   ]
  },
  {
   "cell_type": "code",
   "execution_count": null,
   "id": "48a8f065",
   "metadata": {},
   "outputs": [],
   "source": [
    "pipe.save('tmp_inform_all.yml')"
   ]
  },
  {
   "cell_type": "markdown",
   "id": "cfc75a67",
   "metadata": {},
   "source": [
    "### Read the configuration yaml file and run the whole inform pipeline"
   ]
  },
  {
   "cell_type": "code",
   "execution_count": null,
   "id": "db8f8e9b",
   "metadata": {},
   "outputs": [],
   "source": [
    "import ceci\n",
    "pr = ceci.Pipeline.read('tmp_inform_all.yml')"
   ]
  },
  {
   "cell_type": "code",
   "execution_count": null,
   "id": "1f1b0b8e",
   "metadata": {},
   "outputs": [],
   "source": [
    "pr.run()"
   ]
  },
  {
   "cell_type": "code",
   "execution_count": null,
   "id": "1ac9618b",
   "metadata": {},
   "outputs": [],
   "source": []
  },
  {
   "cell_type": "code",
   "execution_count": null,
   "id": "7ca9f6b9",
   "metadata": {},
   "outputs": [],
   "source": []
  }
 ],
 "metadata": {
  "kernelspec": {
   "display_name": "Python 3 (ipykernel)",
   "language": "python",
   "name": "python3"
  },
  "language_info": {
   "codemirror_mode": {
    "name": "ipython",
    "version": 3
   },
   "file_extension": ".py",
   "mimetype": "text/x-python",
   "name": "python",
   "nbconvert_exporter": "python",
   "pygments_lexer": "ipython3",
   "version": "3.9.10"
  }
 },
 "nbformat": 4,
 "nbformat_minor": 5
}
