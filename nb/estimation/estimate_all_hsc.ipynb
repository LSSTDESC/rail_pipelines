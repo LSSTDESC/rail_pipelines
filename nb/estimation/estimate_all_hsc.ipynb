{
 "cells": [
  {
   "cell_type": "code",
   "execution_count": 1,
   "id": "f9463120",
   "metadata": {},
   "outputs": [
    {
     "name": "stdout",
     "output_type": "stream",
     "text": [
      "Imported rail.hub\n",
      "Imported rail.astro_tools\n",
      "Imported rail.core\n",
      "Imported rail.stages\n",
      "Imported rail.bpz\n",
      "Imported rail.cmnn\n",
      "Imported rail.delight\n",
      "Failed to import rail.dsps because: No module named 'rail.creation.engines.galaxy_population_components'\n",
      "Imported rail.flexzboost\n",
      "Failed to import rail.gpz because: No module named 'rail.estimation.algos.gpz_v1'\n",
      "Imported rail.pipelines\n",
      "Failed to import rail.pzflow because: No module named 'rail.estimation.algos.pzflow'\n",
      "Imported rail.sklearn\n",
      "Imported rail.som\n",
      "Attached 10 base classes and 50 fully formed stages to rail.stages\n"
     ]
    }
   ],
   "source": [
    "# usual imports\n",
    "import os\n",
    "import numpy as np\n",
    "import matplotlib.pyplot as plt\n",
    "\n",
    "from rail.core.utils import RAILDIR\n",
    "#from rail.estimation.algos.bpz_version.utils import RAIL_BPZ_DIR\n",
    "from rail.pipelines.estimation.estimate_all import EstimatePipeline\n",
    "from rail.core import common_params\n",
    "\n",
    "from rail.pipelines.utils.name_factory import NameFactory, DataType, CatalogType, ModelType, PdfType\n",
    "#from rail.core.stage import RailStage, RailPipeline\n",
    "\n",
    "import qp\n",
    "\n",
    "#import ceci"
   ]
  },
  {
   "cell_type": "code",
   "execution_count": 2,
   "id": "fa7fa474",
   "metadata": {},
   "outputs": [],
   "source": [
    "bands = 'grizy'\n",
    "maglims = [27.66, 27.25, 26.6, 26.24, 25.35]\n",
    "maglim_dict={}\n",
    "for band,limx in zip(bands, maglims):\n",
    "    maglim_dict[f\"HSC{band}_cmodel_dered\"] = limx"
   ]
  },
  {
   "cell_type": "code",
   "execution_count": 3,
   "id": "4f204e39",
   "metadata": {},
   "outputs": [],
   "source": [
    "common_params.set_param_defaults(\n",
    "    bands=[f'HSC{band}_cmodel_dered' for band in bands],\n",
    "    err_bands=[f'{band}_cmodel_magerr' for band in bands],\n",
    "    nondetect_val=np.nan,\n",
    "    ref_band='HSCi_cmodel_dered',\n",
    "    redshift_col='specz_redshift',\n",
    "    mag_limits=maglim_dict,\n",
    "    zmax=6.0,\n",
    ")"
   ]
  },
  {
   "cell_type": "code",
   "execution_count": 4,
   "id": "36ab51b1",
   "metadata": {},
   "outputs": [],
   "source": [
    "pipe = EstimatePipeline()"
   ]
  },
  {
   "cell_type": "code",
   "execution_count": 5,
   "id": "6d781e02-741c-4db7-8222-9c158b6143c0",
   "metadata": {},
   "outputs": [],
   "source": [
    "namer = NameFactory()"
   ]
  },
  {
   "cell_type": "code",
   "execution_count": 6,
   "id": "140b46c1",
   "metadata": {},
   "outputs": [],
   "source": [
    "datadir = '/Users/jtm/data/lsst/PZ/'\n",
    "input_file = os.path.join(datadir, 'dered_223501_sz_match_pdr3_dud_NONDET.hdf5') # hsc_train/\n",
    "\n",
    "input_dict = dict(\n",
    "    model_fzboost=os.path.join(namer.get_data_dir(DataType.model, ModelType.estimator), \"model_FZBoost.hdf5\"), #_fzboost                                                \n",
    "    model_trainz=os.path.join(namer.get_data_dir(DataType.model, ModelType.estimator), \"model_trainz.pkl\"),\n",
    "    input=input_file,\n",
    ")"
   ]
  },
  {
   "cell_type": "code",
   "execution_count": 7,
   "id": "088b42d7",
   "metadata": {},
   "outputs": [
    {
     "name": "stdout",
     "output_type": "stream",
     "text": [
      "Skipping stage estimate_fzboost because its outputs exist already\n"
     ]
    }
   ],
   "source": [
    "pipe_info = pipe.initialize(input_dict, dict(output_dir='.', log_dir='.', resume=True), None)"
   ]
  },
  {
   "cell_type": "code",
   "execution_count": 8,
   "id": "298e80fa",
   "metadata": {},
   "outputs": [],
   "source": [
    "pipe.save('tmp_estimate_all.yml')"
   ]
  },
  {
   "cell_type": "code",
   "execution_count": 9,
   "id": "97dd95f0",
   "metadata": {},
   "outputs": [
    {
     "name": "stdout",
     "output_type": "stream",
     "text": [
      "Skipping stage estimate_fzboost because its outputs exist already\n"
     ]
    }
   ],
   "source": [
    "import ceci\n",
    "pr = ceci.Pipeline.read('tmp_estimate_all.yml')"
   ]
  },
  {
   "cell_type": "code",
   "execution_count": null,
   "id": "d8a21466",
   "metadata": {},
   "outputs": [],
   "source": [
    "pr.run()"
   ]
  },
  {
   "cell_type": "code",
   "execution_count": 10,
   "id": "8f65a4fb",
   "metadata": {},
   "outputs": [],
   "source": [
    "infile = '/Users/jtm/repositories/rail_pipelines/nb/estimation/pdf/pz/output_FZBoost.hdf5'\n",
    "\n",
    "qp_ensemble = qp.read(infile, )\n",
    "\n",
    "print(qp_ensemble.npdf)\n",
    "print(qp_ensemble.ancil)"
   ]
  },
  {
   "cell_type": "code",
   "execution_count": 38,
   "id": "8379775a-0b99-411e-bca7-51699352c033",
   "metadata": {},
   "outputs": [
    {
     "data": {
      "text/plain": [
       "(186884, 301)"
      ]
     },
     "execution_count": 38,
     "metadata": {},
     "output_type": "execute_result"
    }
   ],
   "source": [
    "qp_ensemble.dist.yvals.shape"
   ]
  },
  {
   "cell_type": "code",
   "execution_count": 42,
   "id": "74cc7833-d86d-4877-9fd3-1e93e99c16a9",
   "metadata": {},
   "outputs": [
    {
     "data": {
      "text/plain": [
       "array([[0.48028432],\n",
       "       [0.26491242],\n",
       "       [0.21140595],\n",
       "       ...,\n",
       "       [0.38872968],\n",
       "       [1.58618952],\n",
       "       [0.97573275]])"
      ]
     },
     "execution_count": 42,
     "metadata": {},
     "output_type": "execute_result"
    }
   ],
   "source": [
    "qp_ensemble.rvs(size=1)"
   ]
  },
  {
   "cell_type": "code",
   "execution_count": 29,
   "id": "02e3a570-0b25-441a-81df-e2e8c3845ba7",
   "metadata": {},
   "outputs": [
    {
     "data": {
      "text/plain": [
       "<Axes: xlabel='redshift', ylabel='p(z)'>"
      ]
     },
     "execution_count": 29,
     "metadata": {},
     "output_type": "execute_result"
    },
    {
     "data": {
      "image/png": "[encoded data removed]",
      "text/plain": [
       "<Figure size 640x480 with 1 Axes>"
      ]
     },
     "metadata": {},
     "output_type": "display_data"
    }
   ],
   "source": [
    "qp_ensemble[4].plot_native(xlim=(0,3))"
   ]
  },
  {
   "cell_type": "code",
   "execution_count": 31,
   "id": "6690ba6b-9b01-4dce-bdb6-c32431ca4532",
   "metadata": {},
   "outputs": [
    {
     "data": {
      "text/plain": [
       "array([[9.36878792],\n",
       "       [0.        ],\n",
       "       [0.        ],\n",
       "       ...,\n",
       "       [0.        ],\n",
       "       [0.        ],\n",
       "       [0.        ]])"
      ]
     },
     "execution_count": 31,
     "metadata": {},
     "output_type": "execute_result"
    }
   ],
   "source": [
    "qp_ensemble.pdf(0.5)"
   ]
  },
  {
   "cell_type": "code",
   "execution_count": 11,
   "id": "78dd5ca8-06d4-44e3-b5f2-5034f3be5d14",
   "metadata": {},
   "outputs": [
    {
     "data": {
      "text/plain": [
       "<qp.ensemble.Ensemble at 0x1697fd010>"
      ]
     },
     "execution_count": 11,
     "metadata": {},
     "output_type": "execute_result"
    }
   ],
   "source": [
    "plt.figure()\n",
    "plt.hist(qp_ensemble.ancil['zmode'], bins=40)"
   ]
  },
  {
   "cell_type": "code",
   "execution_count": 22,
   "id": "6ccef046-96c4-4c8a-86db-135cdbb78d7a",
   "metadata": {},
   "outputs": [],
   "source": [
    "# from rail.core import RailStage\n",
    "# dir(RailStage)\n",
    "# DS = RailStage.data_store\n",
    "# DS.keys()"
   ]
  }
 ],
 "metadata": {
  "kernelspec": {
   "display_name": "rail",
   "language": "python",
   "name": "rail"
  },
  "language_info": {
   "codemirror_mode": {
    "name": "ipython",
    "version": 3
   },
   "file_extension": ".py",
   "mimetype": "text/x-python",
   "name": "python",
   "nbconvert_exporter": "python",
   "pygments_lexer": "ipython3",
   "version": "3.11.4"
  }
 },
 "nbformat": 4,
 "nbformat_minor": 5
}
