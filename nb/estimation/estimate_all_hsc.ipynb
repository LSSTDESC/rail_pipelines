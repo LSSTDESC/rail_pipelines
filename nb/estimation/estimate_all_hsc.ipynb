{
 "cells": [
  {
   "cell_type": "code",
   "execution_count": null,
   "id": "f9463120",
   "metadata": {
    "tags": []
   },
   "outputs": [],
   "source": [
    "# usual imports\n",
    "import os\n",
    "import numpy as np\n",
    "import matplotlib.pyplot as plt\n",
    "\n",
    "from rail.core.utils import RAILDIR\n",
    "#from rail.estimation.algos.bpz_version.utils import RAIL_BPZ_DIR\n",
    "from rail.pipelines.estimation.estimate_all import EstimatePipeline\n",
    "from rail.core import common_params\n",
    "\n",
    "from rail.pipelines.utils.name_factory import NameFactory, DataType, CatalogType, ModelType, PdfType\n",
    "#from rail.core.stage import RailStage, RailPipeline\n",
    "\n",
    "import qp\n",
    "import ceci\n",
    "#import ceci"
   ]
  },
  {
   "cell_type": "code",
   "execution_count": null,
   "id": "c6a080f9-ea73-4667-bfba-25ec5b25bcc3",
   "metadata": {
    "tags": []
   },
   "outputs": [],
   "source": [
    "#change to your rail location\n",
    "RAIL_BPZ_DIR = \"/path/to/your/rail/rail_bpz/src/\""
   ]
  },
  {
   "cell_type": "code",
   "execution_count": null,
   "id": "fa7fa474",
   "metadata": {
    "tags": []
   },
   "outputs": [],
   "source": [
    "bands = 'grizy'\n",
    "maglims = [27.66, 27.25, 26.6, 26.24, 25.35]\n",
    "maglim_dict={}\n",
    "for band,limx in zip(bands, maglims):\n",
    "    maglim_dict[f\"HSC{band}_cmodel_dered\"] = limx"
   ]
  },
  {
   "cell_type": "code",
   "execution_count": null,
   "id": "4f204e39",
   "metadata": {
    "tags": []
   },
   "outputs": [],
   "source": [
    "common_params.set_param_defaults(\n",
    "    bands=[f'HSC{band}_cmodel_dered' for band in bands],\n",
    "    err_bands=[f'{band}_cmodel_magerr' for band in bands],\n",
    "    nondetect_val=np.nan,\n",
    "    ref_band='HSCi_cmodel_dered',\n",
    "    redshift_col='specz_redshift',\n",
    "    mag_limits=maglim_dict,\n",
    "    zmax=6.0,\n",
    ")"
   ]
  },
  {
   "cell_type": "code",
   "execution_count": null,
   "id": "36ab51b1",
   "metadata": {
    "tags": []
   },
   "outputs": [],
   "source": [
    "pipe = EstimatePipeline()"
   ]
  },
  {
   "cell_type": "code",
   "execution_count": null,
   "id": "4865f131-b4da-4fbc-aaf4-395e7ced2f58",
   "metadata": {
    "tags": []
   },
   "outputs": [],
   "source": [
    "namer = NameFactory()"
   ]
  },
  {
   "cell_type": "code",
   "execution_count": null,
   "id": "20d706d0-e510-4c81-b01a-5a3e4a9bcea0",
   "metadata": {},
   "outputs": [],
   "source": [
    "pipe.estimate_somoclu.config.update(spec_groupname = \"\", redshift_colname = 'specz_redshift')\n",
    "pipe.estimate_simplesom.config.update(spec_groupname = \"\", redshift_colname = 'specz_redshift')\n"
   ]
  },
  {
   "cell_type": "code",
   "execution_count": null,
   "id": "140b46c1",
   "metadata": {},
   "outputs": [],
   "source": [
    "input_file = 'dered_223501_sz_match_pdr3_dud_NONDET.hdf5'\n",
    "\n",
    "\n",
    "input_dict = dict(\n",
    "    model_knn=os.path.join(namer.get_data_dir(DataType.model, ModelType.estimator), \"model_knn.pkl\"),\n",
    "    model_simplenn=os.path.join(namer.get_data_dir(DataType.model, ModelType.estimator), \"model_simplenn.pkl\"),\n",
    "    model_simplesom=os.path.join(namer.get_data_dir(DataType.model, ModelType.estimator), \"model_simplesom.pkl\"),\n",
    "    model_somoclu=os.path.join(namer.get_data_dir(DataType.model, ModelType.estimator), \"model_somoclu.pkl\"),\n",
    "    model_fzboost=os.path.join(namer.get_data_dir(DataType.model, ModelType.estimator), \"model_FZBoost.hdf5\"), #_fzboost\n",
    "    model_trainz=os.path.join(namer.get_data_dir(DataType.model, ModelType.estimator), \"model_trainz.pkl\"),        \n",
    "    input=input_file,\n",
    "    spec_input = input_file,\n",
    ")"
   ]
  },
  {
   "cell_type": "code",
   "execution_count": null,
   "id": "088b42d7",
   "metadata": {},
   "outputs": [],
   "source": [
    "pipe_info = pipe.initialize(input_dict, dict(output_dir='.', log_dir='.', resume=True), None)\n"
   ]
  },
  {
   "cell_type": "code",
   "execution_count": null,
   "id": "298e80fa",
   "metadata": {},
   "outputs": [],
   "source": [
    "pipe.save('tmp_estimate_all.yml')"
   ]
  },
  {
   "cell_type": "code",
   "execution_count": null,
   "id": "97dd95f0",
   "metadata": {},
   "outputs": [],
   "source": [
    "import ceci\n",
    "pr = ceci.Pipeline.read('tmp_estimate_all.yml')"
   ]
  },
  {
   "cell_type": "code",
   "execution_count": null,
   "id": "d8a21466",
   "metadata": {},
   "outputs": [],
   "source": [
    "pr.run()"
   ]
  },
  {
   "cell_type": "markdown",
   "id": "972b3f2c-6600-46e8-83b9-db7e255af540",
   "metadata": {},
   "source": [
    "# display $p(z)$"
   ]
  },
  {
   "cell_type": "code",
   "execution_count": null,
   "id": "8189f61d-7281-48e3-bc66-334e9a7fc22b",
   "metadata": {
    "tags": []
   },
   "outputs": [],
   "source": [
    "infile = './pdf/pz/output_simplenn.hdf5'\n",
    "\n",
    "qp_ensemble = qp.read(infile)\n",
    "\n",
    "print(qp_ensemble.npdf)\n",
    "print(qp_ensemble.ancil)"
   ]
  },
  {
   "cell_type": "code",
   "execution_count": null,
   "id": "8ac7d3bd-5f68-4d58-ae56-a77ccedae1c2",
   "metadata": {
    "tags": []
   },
   "outputs": [],
   "source": [
    "plt.figure()\n",
    "plt.hist(qp_ensemble.ancil['zmode'], bins=40)\n",
    "plt.show()"
   ]
  },
  {
   "cell_type": "markdown",
   "id": "c3329440-44b4-4b23-91b0-2cc58417740a",
   "metadata": {},
   "source": [
    "## display $n(z)$"
   ]
  },
  {
   "cell_type": "code",
   "execution_count": null,
   "id": "d4290c81-166a-49f6-9cba-95baf5ce9d18",
   "metadata": {
    "tags": []
   },
   "outputs": [],
   "source": [
    "infile = './pdf/nz/output_simplesom.hdf5'\n",
    "\n",
    "qp_ensemble = qp.read(infile)\n",
    "\n",
    "print(qp_ensemble.npdf)\n",
    "print(qp_ensemble.ancil)"
   ]
  },
  {
   "cell_type": "code",
   "execution_count": null,
   "id": "aeaa3df5-4615-462d-92b9-866093c8604e",
   "metadata": {
    "tags": []
   },
   "outputs": [],
   "source": [
    "plt.figure()\n",
    "qp_ensemble_single_nz[0].plot_native(xlim = (0,6))\n",
    "plt.show()"
   ]
  },
  {
   "cell_type": "code",
   "execution_count": null,
   "id": "c092c5f8-e27f-419a-bc08-6bfc4cf9e39c",
   "metadata": {},
   "outputs": [],
   "source": []
  }
 ],
 "metadata": {
  "kernelspec": {
   "display_name": "rail_env",
   "language": "python",
   "name": "rail_env"
  },
  "language_info": {
   "codemirror_mode": {
    "name": "ipython",
    "version": 3
   },
   "file_extension": ".py",
   "mimetype": "text/x-python",
   "name": "python",
   "nbconvert_exporter": "python",
   "pygments_lexer": "ipython3",
   "version": "3.11.4"
  }
 },
 "nbformat": 4,
 "nbformat_minor": 5
}
