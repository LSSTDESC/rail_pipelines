{
 "cells": [
  {
   "cell_type": "code",
   "execution_count": null,
   "id": "f9463120",
   "metadata": {},
   "outputs": [],
   "source": [
    "# usual imports\n",
    "import os\n",
    "import numpy as np\n",
    "import matplotlib.pyplot as plt\n",
    "\n",
    "from rail.core.utils import RAILDIR\n",
    "#from rail.estimation.algos.bpz_version.utils import RAIL_BPZ_DIR\n",
    "from rail.pipelines.estimation.estimate_all import EstimatePipeline\n",
    "from rail.core import common_params\n",
    "\n",
    "from rail.pipelines.utils.name_factory import NameFactory, DataType, CatalogType, ModelType, PdfType\n",
    "#from rail.core.stage import RailStage, RailPipeline\n",
    "\n",
    "import qp\n",
    "\n",
    "#import ceci"
   ]
  },
  {
   "cell_type": "code",
   "execution_count": null,
   "id": "fa7fa474",
   "metadata": {},
   "outputs": [],
   "source": [
    "bands = 'grizy'\n",
    "maglims = [27.66, 27.25, 26.6, 26.24, 25.35]\n",
    "maglim_dict={}\n",
    "for band,limx in zip(bands, maglims):\n",
    "    maglim_dict[f\"HSC{band}_cmodel_dered\"] = limx"
   ]
  },
  {
   "cell_type": "code",
   "execution_count": null,
   "id": "4f204e39",
   "metadata": {},
   "outputs": [],
   "source": [
    "common_params.set_param_defaults(\n",
    "    bands=[f'HSC{band}_cmodel_dered' for band in bands],\n",
    "    err_bands=[f'{band}_cmodel_magerr' for band in bands],\n",
    "    nondetect_val=np.nan,\n",
    "    ref_band='HSCi_cmodel_dered',\n",
    "    redshift_col='specz_redshift',\n",
    "    mag_limits=maglim_dict,\n",
    "    zmax=6.0,\n",
    ")"
   ]
  },
  {
   "cell_type": "code",
   "execution_count": null,
   "id": "36ab51b1",
   "metadata": {},
   "outputs": [],
   "source": [
    "pipe = EstimatePipeline()"
   ]
  },
  {
   "cell_type": "code",
   "execution_count": null,
   "id": "6d781e02-741c-4db7-8222-9c158b6143c0",
   "metadata": {},
   "outputs": [],
   "source": [
    "namer = NameFactory()"
   ]
  },
  {
   "cell_type": "code",
   "execution_count": null,
   "id": "140b46c1",
   "metadata": {},
   "outputs": [],
   "source": [
    "datadir = '/Users/jtm/data/lsst/PZ/'\n",
    "input_file = os.path.join(datadir, 'dered_223501_sz_match_pdr3_dud_NONDET.hdf5') # hsc_train/\n",
    "\n",
    "input_dict = dict(\n",
    "    model_fzboost=os.path.join(namer.get_data_dir(DataType.model, ModelType.estimator), \"model_FZBoost.hdf5\"), #_fzboost                                                \n",
    "    model_trainz=os.path.join(namer.get_data_dir(DataType.model, ModelType.estimator), \"model_trainz.pkl\"),\n",
    "    input=input_file,\n",
    ")"
   ]
  },
  {
   "cell_type": "code",
   "execution_count": null,
   "id": "088b42d7",
   "metadata": {},
   "outputs": [],
   "source": [
    "pipe_info = pipe.initialize(input_dict, dict(output_dir='.', log_dir='.', resume=True), None)"
   ]
  },
  {
   "cell_type": "code",
   "execution_count": null,
   "id": "298e80fa",
   "metadata": {},
   "outputs": [],
   "source": [
    "pipe.save('tmp_estimate_all.yml')"
   ]
  },
  {
   "cell_type": "code",
   "execution_count": null,
   "id": "97dd95f0",
   "metadata": {},
   "outputs": [],
   "source": [
    "import ceci\n",
    "pr = ceci.Pipeline.read('tmp_estimate_all.yml')"
   ]
  },
  {
   "cell_type": "code",
   "execution_count": null,
   "id": "d8a21466",
   "metadata": {},
   "outputs": [],
   "source": [
    "pr.run()"
   ]
  },
  {
   "cell_type": "code",
   "execution_count": null,
   "id": "8f65a4fb",
   "metadata": {},
   "outputs": [],
   "source": [
    "infile = '/Users/jtm/repositories/rail_pipelines/nb/estimation/pdf/pz/output_FZBoost.hdf5'\n",
    "\n",
    "qp_ensemble = qp.read(infile, )\n",
    "\n",
    "print(qp_ensemble.npdf)\n",
    "print(qp_ensemble.ancil)"
   ]
  },
  {
   "cell_type": "code",
   "execution_count": null,
   "id": "8379775a-0b99-411e-bca7-51699352c033",
   "metadata": {},
   "outputs": [],
   "source": [
    "qp_ensemble.dist.yvals.shape"
   ]
  },
  {
   "cell_type": "code",
   "execution_count": null,
   "id": "74cc7833-d86d-4877-9fd3-1e93e99c16a9",
   "metadata": {},
   "outputs": [],
   "source": [
    "qp_ensemble.rvs(size=1)"
   ]
  },
  {
   "cell_type": "code",
   "execution_count": null,
   "id": "02e3a570-0b25-441a-81df-e2e8c3845ba7",
   "metadata": {},
   "outputs": [],
   "source": [
    "qp_ensemble[4].plot_native(xlim=(0,3))"
   ]
  },
  {
   "cell_type": "code",
   "execution_count": null,
   "id": "6690ba6b-9b01-4dce-bdb6-c32431ca4532",
   "metadata": {},
   "outputs": [],
   "source": [
    "qp_ensemble.pdf(0.5)"
   ]
  },
  {
   "cell_type": "code",
   "execution_count": null,
   "id": "78dd5ca8-06d4-44e3-b5f2-5034f3be5d14",
   "metadata": {},
   "outputs": [],
   "source": [
    "plt.figure()\n",
    "plt.hist(qp_ensemble.ancil['zmode'], bins=40)"
   ]
  },
  {
   "cell_type": "code",
   "execution_count": null,
   "id": "6ccef046-96c4-4c8a-86db-135cdbb78d7a",
   "metadata": {},
   "outputs": [],
   "source": [
    "# from rail.core import RailStage\n",
    "# dir(RailStage)\n",
    "# DS = RailStage.data_store\n",
    "# DS.keys()"
   ]
  }
 ],
 "metadata": {
  "kernelspec": {
   "display_name": "rail",
   "language": "python",
   "name": "rail"
  },
  "language_info": {
   "codemirror_mode": {
    "name": "ipython",
    "version": 3
   },
   "file_extension": ".py",
   "mimetype": "text/x-python",
   "name": "python",
   "nbconvert_exporter": "python",
   "pygments_lexer": "ipython3",
   "version": "3.11.4"
  }
 },
 "nbformat": 4,
 "nbformat_minor": 5
}
