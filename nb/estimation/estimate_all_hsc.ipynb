{
 "cells": [
  {
   "cell_type": "markdown",
   "id": "7b4dbe21",
   "metadata": {},
   "source": [
    "### usual imports\n"
   ]
  },
  {
   "cell_type": "code",
   "execution_count": null,
   "id": "8d3546db",
   "metadata": {},
   "outputs": [],
   "source": [
    "import os\n",
    "import numpy as np\n",
    "from rail.core.utils import RAILDIR\n",
    "#from rail.estimation.algos.bpz_version.utils import RAIL_BPZ_DIR\n",
    "from rail.pipelines.estimation.estimate_all import EstimatePipeline\n",
    "from rail.core import common_params\n",
    "\n",
    "import qp\n",
    "import ceci\n",
    "\n",
    "import rail.stages\n",
    "rail.stages.import_and_attach_all()\n",
    "from rail.stages import *\n",
    "\n",
    "from rail.pipelines.utils.name_factory import NameFactory, DataType, CatalogType, ModelType, PdfType\n",
    "from rail.core.stage import RailStage, RailPipeline\n",
    "\n",
    "import ceci\n",
    "namer = NameFactory()"
   ]
  },
  {
   "cell_type": "code",
   "execution_count": null,
   "id": "4e62474f",
   "metadata": {},
   "outputs": [],
   "source": [
    "RAIL_BPZ_DIR = '../../../rail_bpz/rail_bpz/src/'\n",
    "DATA_DIR = \"/net/home/fohlen14/yanza21/DATA/data_for_rail/\"  # the directory that sore data"
   ]
  },
  {
   "cell_type": "markdown",
   "id": "d1cc3318",
   "metadata": {},
   "source": [
    "### The following two cells define common parameters before building stages. These parameters are shared by all the stages. Params changed in individual stages will not result in changes in common_params"
   ]
  },
  {
   "cell_type": "code",
   "execution_count": null,
   "id": "a598c850",
   "metadata": {},
   "outputs": [],
   "source": [
    "calib_file = f'{DATA_DIR}dered_223501_sz_match_pdr3_dud_NONDET_v2.hdf5'\n",
    "test_file = f'{DATA_DIR}hecto_deredden_nondet.hdf5'\n",
    "\n",
    "from rail.core.utilStages import ColumnMapper, TableConverter\n",
    "\n",
    "bands = 'grizy'\n",
    "maglims = [27.66, 27.25, 26.6, 26.24, 25.35]\n",
    "maglim_dict={}\n",
    "for band,limx in zip(bands, maglims):\n",
    "    maglim_dict[f\"HSC{band}_cmodel_dered\"] = limx\n",
    "    \n",
    "common_params.set_param_defaults(\n",
    "    bands=[f'{band}_cmodel_mag_dered' for band in bands],\n",
    "    err_bands=[f'{band}_cmodel_magerr' for band in bands],\n",
    "    nondetect_val=np.nan,\n",
    "    ref_band='HSCi_cmodel_dered',\n",
    "    redshift_col='specz_redshift',\n",
    "    mag_limits=maglim_dict,\n",
    "    zmax=6.0,\n",
    ")"
   ]
  },
  {
   "cell_type": "markdown",
   "id": "acccd0ba",
   "metadata": {},
   "source": [
    "from rail.core import *\n",
    "RailEnv.print_rail_stage_dict()"
   ]
  },
  {
   "cell_type": "code",
   "execution_count": null,
   "id": "b8a0580e",
   "metadata": {},
   "outputs": [],
   "source": [
    "pipe = EstimatePipeline()"
   ]
  },
  {
   "cell_type": "markdown",
   "id": "cfc8cb60",
   "metadata": {},
   "source": [
    "pipe.estimate_bpz.config.update(\n",
    "    zp_errors=[0.01, 0.01, 0.01, 0.01, 0.01],\n",
    "    columns_file = os.path.join(\n",
    "        RAIL_BPZ_DIR, 'rail', 'examples_data', 'estimation_data', 'configs', 'test_bpz_hsc.columns',\n",
    "    ),\n",
    ")"
   ]
  },
  {
   "cell_type": "code",
   "execution_count": null,
   "id": "63808602",
   "metadata": {},
   "outputs": [],
   "source": [
    "input_dict = dict(spec_groupname=\"\", \n",
    "    model_fzboost=os.path.join(namer.get_data_dir(DataType.model, ModelType.estimator), \"model_FZBoost.hdf5\"),             \n",
    "    model_somoclu=os.path.join(namer.get_data_dir(DataType.model, ModelType.estimator), \"model_somoclu.hdf5\"),   \n",
    "    model_bpz=os.path.join(namer.get_data_dir(DataType.model, ModelType.estimator), \"model_bpz.hdf5\"),                             \n",
    "    model_simplesom=os.path.join(namer.get_data_dir(DataType.model, ModelType.estimator), \"model_simplesom.hdf5\"),                                        \n",
    "    model_trainz=os.path.join(namer.get_data_dir(DataType.model, ModelType.estimator), \"model_trainz.pkl\"),\n",
    "    model_knn=os.path.join(namer.get_data_dir(DataType.model, ModelType.estimator), \"model_knn.pkl\"),\n",
    "    input=test_file,\n",
    "    spec_input=calib_file,\n",
    ")\n"
   ]
  },
  {
   "cell_type": "code",
   "execution_count": null,
   "id": "d5b866ce",
   "metadata": {},
   "outputs": [],
   "source": [
    "pipe_info = pipe.initialize(input_dict, dict(output_dir='.', log_dir='.', resume=False), None)\n",
    "pipe.save(f'tmp_estimate_soms.yml')\n",
    "\n",
    "import ceci\n",
    "pr = ceci.Pipeline.read(f'tmp_estimate_soms.yml')"
   ]
  },
  {
   "cell_type": "code",
   "execution_count": null,
   "id": "819fd83f",
   "metadata": {},
   "outputs": [],
   "source": [
    "pr.run()"
   ]
  },
  {
   "cell_type": "code",
   "execution_count": null,
   "id": "19ce37b4",
   "metadata": {},
   "outputs": [],
   "source": [
    "import tables_io\n",
    "DS = RailStage.data_store\n",
    "DS.__class__.allow_overwrite = True\n",
    "calib_data = tables_io.read(calib_file)\n",
    "calib_data = DS.add_data(\"calib_data\", calib_data, TableHandle)"
   ]
  },
  {
   "cell_type": "code",
   "execution_count": null,
   "id": "15210410",
   "metadata": {},
   "outputs": [],
   "source": [
    "infile_somoclu = f'pdf/nz/output_somoclu.hdf5'\n",
    "infile_simplesom = f'pdf/nz/output_simplesom.hdf5'\n",
    "\n",
    "qp_somoclu = qp.read(infile_somoclu, )\n",
    "qp_simplesom = qp.read(infile_simplesom, )"
   ]
  },
  {
   "cell_type": "code",
   "execution_count": null,
   "id": "194be7f1",
   "metadata": {},
   "outputs": [],
   "source": [
    "def get_cont_hist(data, bins):\n",
    "    hist, bin_edge = np.histogram(data, bins=bins, density=True)\n",
    "    return hist, (bin_edge[1:]+bin_edge[:-1])/2"
   ]
  },
  {
   "cell_type": "code",
   "execution_count": null,
   "id": "c10ce20d",
   "metadata": {},
   "outputs": [],
   "source": [
    "test_nz_hist, zbin = get_cont_hist(calib_data.data[common_params.SHARED_PARAMS['redshift_col']], np.linspace(0,3,50))\n",
    "somoclu_nz_hist = np.squeeze(qp_somoclu.pdf(zbin))\n",
    "simplesom_nz_hist = np.squeeze(qp_simplesom.pdf(zbin))\n"
   ]
  },
  {
   "cell_type": "markdown",
   "id": "8c3f4fed",
   "metadata": {},
   "source": [
    "plt.figure(figsize=(12,12))\n",
    "plt.plot(spec_data.data['photometry']['specz_redshift'][spec_data.data['photometry']['specz_redshift']>0], \n",
    "         qp_FZBoost.ancil['zmode'].reshape(-1)[spec_data.data['photometry']['specz_redshift']>0], '.', ms=0.2)\n",
    "plt.xlabel('specz')\n",
    "plt.ylabel('FZBoost')\n",
    "plt.xlim(0,6)\n",
    "plt.ylim(0,6)"
   ]
  },
  {
   "cell_type": "code",
   "execution_count": null,
   "id": "feb0d67b",
   "metadata": {},
   "outputs": [],
   "source": [
    "import matplotlib.pyplot as plt\n",
    "\n",
    "fig, ax = plt.subplots(1,1, figsize=(12,8))\n",
    "ax.set_xlabel(\"redshift\", fontsize=15)\n",
    "ax.set_ylabel(\"N(z)\", fontsize=15)\n",
    "ax.plot(zbin, test_nz_hist, label='True N(z)')\n",
    "#ax.plot(zbin, test_nz_hist, label='True N(z)')\n",
    "ax.plot(zbin, np.mean(somoclu_nz_hist, axis=0), label='somoclu N(z)')\n",
    "ax.plot(zbin, np.mean(simplesom_nz_hist, axis=0), label='simplesom N(z)')\n",
    "plt.legend()"
   ]
  }
 ],
 "metadata": {
  "kernelspec": {
   "display_name": "Python 3 (ipykernel)",
   "language": "python",
   "name": "python3"
  },
  "language_info": {
   "codemirror_mode": {
    "name": "ipython",
    "version": 3
   },
   "file_extension": ".py",
   "mimetype": "text/x-python",
   "name": "python",
   "nbconvert_exporter": "python",
   "pygments_lexer": "ipython3",
   "version": "3.9.10"
  }
 },
 "nbformat": 4,
 "nbformat_minor": 5
}
