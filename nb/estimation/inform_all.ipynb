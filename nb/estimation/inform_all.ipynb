{
 "cells": [
  {
   "cell_type": "code",
   "execution_count": null,
   "id": "f9463120",
   "metadata": {
    "tags": []
   },
   "outputs": [],
   "source": [
    "# usual imports\n",
    "import os\n",
    "import numpy as np\n",
    "from rail.utils.path_utils import RAILDIR\n",
    "from rail.bpz.utils import RAIL_BPZ_DIR\n",
    "from rail.pipelines.estimation.inform_all import InformPipeline\n",
    "from rail.core import common_params\n",
    "from rail.pipelines.utils.catalog_config import RubinCatalogConfig, apply_defaults"
   ]
  },
  {
   "cell_type": "code",
   "execution_count": null,
   "id": "f9953864-65f6-4ff2-bb06-7db8ec0c9af3",
   "metadata": {},
   "outputs": [],
   "source": [
    "from rail.core import RailEnv"
   ]
  },
  {
   "cell_type": "code",
   "execution_count": null,
   "id": "690d7faa-1a0c-4b4c-8b65-00c91489e760",
   "metadata": {},
   "outputs": [],
   "source": [
    "RailEnv.print_rail_packages()"
   ]
  },
  {
   "cell_type": "code",
   "execution_count": null,
   "id": "4b8e1dfa-5e48-4948-87a6-651ea6a7cb4a",
   "metadata": {},
   "outputs": [],
   "source": [
    "RailEnv.print_rail_stage_dict()"
   ]
  },
  {
   "cell_type": "code",
   "execution_count": null,
   "id": "af068b1e-a1a7-4268-af32-4d1d9a0627a2",
   "metadata": {
    "tags": []
   },
   "outputs": [],
   "source": [
    "data_origin = RubinCatalogConfig.tag"
   ]
  },
  {
   "cell_type": "code",
   "execution_count": null,
   "id": "c095e7c1-54f2-456f-86a7-f5a8cfeef958",
   "metadata": {},
   "outputs": [],
   "source": [
    "apply_defaults(data_origin)"
   ]
  },
  {
   "cell_type": "markdown",
   "id": "090457b4-392c-440d-9d73-323d7445669e",
   "metadata": {},
   "source": [
    "### Set up the estimate pipeline"
   ]
  },
  {
   "cell_type": "code",
   "execution_count": null,
   "id": "36ab51b1",
   "metadata": {
    "tags": []
   },
   "outputs": [],
   "source": [
    "pipe = InformPipeline()"
   ]
  },
  {
   "cell_type": "code",
   "execution_count": null,
   "id": "013132ee",
   "metadata": {
    "tags": []
   },
   "outputs": [],
   "source": [
    "dir(pipe)"
   ]
  },
  {
   "cell_type": "code",
   "execution_count": null,
   "id": "5db54bb4-8f17-4d90-b1ac-319156f2f396",
   "metadata": {},
   "outputs": [],
   "source": [
    "pipe.inform_knn.config.update(leaf_size=14)"
   ]
  },
  {
   "cell_type": "code",
   "execution_count": null,
   "id": "4b072ac6-bf56-44fe-8846-8acf2862afa2",
   "metadata": {},
   "outputs": [],
   "source": [
    "pipe.inform_knn.config"
   ]
  },
  {
   "cell_type": "markdown",
   "id": "30c24a96-01d9-4552-986b-b1bc4e8e15d7",
   "metadata": {},
   "source": [
    "### Specify input model for each stages, and the spec_input file (same as the input_file)"
   ]
  },
  {
   "cell_type": "code",
   "execution_count": null,
   "id": "430426d8-36ab-460f-a56c-0a8603bb0d32",
   "metadata": {},
   "outputs": [],
   "source": [
    "if data_origin == 'hsc':\n",
    "    data_dir = '/global/cfs/cdirs/lsst/groups/PZ/HSCDATA/SPECTROSCOPY'\n",
    "elif data_origin == 'dc2':\n",
    "    data_dir = '/global/cfs/cdirs/lsst/groups/PZ/PhotoZDC2/run2.2i_dr6_v2/'\n",
    "elif data_origin == 'rubin':\n",
    "    data_dir = '/sdf/data/rubin/shared/pz/data/training/'"
   ]
  },
  {
   "cell_type": "code",
   "execution_count": null,
   "id": "7d6dbb46-6e74-4854-b2a4-61e168ef05eb",
   "metadata": {
    "tags": []
   },
   "outputs": [],
   "source": [
    "if data_origin == 'hsc':\n",
    "    photo_input_file = os.path.join(data_dir,'dered_223501_sz_match_pdr3_dud_NONDET.hdf5')\n",
    "    spec_input_file = photo_input_file\n",
    "elif data_origin == 'dc2':\n",
    "    photo_input_file = os.path.join(data_dir,\"Run2.2i_dr6_dereddened_tract_4852.hdf5\")\n",
    "    spec_input_file = os.path.join(data_dir,\"Run2.2i_dr6_dereddened_tract_4437_test_bright.hdf5\")\n",
    "elif data_origin == 'rubin':\n",
    "    photo_input_file = os.path.join(data_dir,\"roman_rubin_2023_v1.1.3_parquet_healpixel_maglim_25.5_truth_to_observed_train-100000.parquet\")\n",
    "    spec_input_file = os.path.join(data_dir,\"roman_rubin_2023_v1.1.3_parquet_healpixel_maglim_25.5_truth_to_observed_train-100000.parquet\")\n",
    "\n",
    "input_dict = dict(\n",
    "    input=spec_input_file,\n",
    ")"
   ]
  },
  {
   "cell_type": "code",
   "execution_count": null,
   "id": "a739d86b-e795-4cf7-885a-02b06c52bb95",
   "metadata": {
    "tags": []
   },
   "outputs": [],
   "source": [
    "input_dict"
   ]
  },
  {
   "cell_type": "code",
   "execution_count": null,
   "id": "088b42d7",
   "metadata": {},
   "outputs": [],
   "source": [
    "pipe_info = pipe.initialize(input_dict, dict(output_dir=data_origin, log_dir='.', resume=True), None)"
   ]
  },
  {
   "cell_type": "code",
   "execution_count": null,
   "id": "97ef5502-f44b-48bc-b78c-65832ca0e1f3",
   "metadata": {
    "tags": []
   },
   "outputs": [],
   "source": [
    "pipe.print_stages()"
   ]
  },
  {
   "cell_type": "code",
   "execution_count": null,
   "id": "0d53f594-047f-4cf9-aa7d-32f5494c95d2",
   "metadata": {
    "tags": []
   },
   "outputs": [],
   "source": [
    "if data_origin == 'dc2':\n",
    "    for stage in pipe.stages:\n",
    "        stage.config.update(hdf5_groupname = \"photometry\")"
   ]
  },
  {
   "cell_type": "code",
   "execution_count": null,
   "id": "298e80fa",
   "metadata": {},
   "outputs": [],
   "source": [
    "pipe.save('inform_all.yml')"
   ]
  },
  {
   "cell_type": "markdown",
   "id": "d6013957-1ece-47c0-a93e-b397d40f7b50",
   "metadata": {},
   "source": [
    "[For NERSC users!]\n",
    "\n",
    "This won't work on jupyter.nersc.gov, for a test run, you need to\n",
    "\n",
    "Add \"name: local\" to the \"site\" section in the 'inform_all.yml'\n",
    "ssh into perlmutter.nersc.gov, set up the rail environment, and run \"ceci estimate_all.yml\""
   ]
  },
  {
   "cell_type": "code",
   "execution_count": null,
   "id": "97dd95f0",
   "metadata": {},
   "outputs": [],
   "source": [
    "import ceci\n",
    "pr = ceci.Pipeline.read('inform_all.yml')"
   ]
  },
  {
   "cell_type": "code",
   "execution_count": null,
   "id": "d8a21466",
   "metadata": {},
   "outputs": [],
   "source": [
    "pr.run()"
   ]
  },
  {
   "cell_type": "code",
   "execution_count": null,
   "id": "e4dab658",
   "metadata": {},
   "outputs": [],
   "source": [
    "# curl -O https://portal.nersc.gov/cfs/lsst/PZ/dered_223501_sz_match_pdr3_dud_NONDET.hdf5"
   ]
  },
  {
   "cell_type": "code",
   "execution_count": null,
   "id": "8f65a4fb",
   "metadata": {
    "tags": []
   },
   "outputs": [],
   "source": [
    "# OMP_NUM_THREADS=1   python3 -m ceci rail.estimation.algos.flexzboost.FlexZBoostInformer   --input=dered_223501_sz_match_pdr3_dud_NONDET.hdf5   --name=inform_fzboost   --config=tmp_inform_all_config.yml   --model=./model/estimator/model_FZBoost.hdf5\n",
    "\n",
    "\n",
    "\n"
   ]
  }
 ],
 "metadata": {
  "kernelspec": {
   "display_name": "Python 3 (ipykernel)",
   "language": "python",
   "name": "python3"
  },
  "language_info": {
   "codemirror_mode": {
    "name": "ipython",
    "version": 3
   },
   "file_extension": ".py",
   "mimetype": "text/x-python",
   "name": "python",
   "nbconvert_exporter": "python",
   "pygments_lexer": "ipython3",
   "version": "3.12.2"
  }
 },
 "nbformat": 4,
 "nbformat_minor": 5
}
